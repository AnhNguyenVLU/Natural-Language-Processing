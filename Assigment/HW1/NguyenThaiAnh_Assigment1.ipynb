{
 "cells": [
  {
   "cell_type": "markdown",
   "id": "798a34e1-a7e5-4326-ab26-ba94b72536ce",
   "metadata": {},
   "source": [
    "### Nguyen Thai Anh - st122910- Assignment 1"
   ]
  },
  {
   "cell_type": "code",
   "execution_count": 1,
   "id": "3b27f487-7a22-4fa0-aae0-a6098ca3eeff",
   "metadata": {},
   "outputs": [],
   "source": [
    "import numpy as np\n",
    "import torch\n",
    "import torch.nn as nn\n",
    "import torch.optim as optim\n",
    "import matplotlib.pyplot as plt"
   ]
  },
  {
   "cell_type": "code",
   "execution_count": 2,
   "id": "a9c04c4f-9115-4455-bee5-ddc1badccd54",
   "metadata": {},
   "outputs": [
    {
     "data": {
      "text/plain": [
       "('1.21.5', '1.13.0+cu117')"
      ]
     },
     "execution_count": 2,
     "metadata": {},
     "output_type": "execute_result"
    }
   ],
   "source": [
    "np.__version__, torch.__version__"
   ]
  },
  {
   "cell_type": "code",
   "execution_count": 3,
   "id": "3d00f580-329c-46f4-b92d-1c2703f8482e",
   "metadata": {},
   "outputs": [
    {
     "data": {
      "text/plain": [
       "'3.5.1'"
      ]
     },
     "execution_count": 3,
     "metadata": {},
     "output_type": "execute_result"
    }
   ],
   "source": [
    "import matplotlib\n",
    "matplotlib.__version__"
   ]
  },
  {
   "cell_type": "markdown",
   "id": "0c41f25a-26cb-4385-9a8a-7a2999843d70",
   "metadata": {},
   "source": [
    "## Question 1: Try a real corpus (instead of banana apple, try something real... on the internet....) - not so big!  Just so you have a good taste of real stuff....like 50 documents, each having 50 words...(really up to you)"
   ]
  },
  {
   "cell_type": "markdown",
   "id": "6e20aad5-5858-4062-a760-bbcb0f217cfc",
   "metadata": {},
   "source": [
    "## Data "
   ]
  },
  {
   "cell_type": "code",
   "execution_count": 4,
   "id": "49499df4-ac12-45cc-bcc3-115be03a661d",
   "metadata": {},
   "outputs": [],
   "source": [
    "#specify the sentences / corpus\n",
    "#corpus is defined as a set of documents\n",
    "#document is basically a bunch of sentence(s)\n",
    "corpus = [\n",
    "    'he is a king',\n",
    "    'he is a teacher',\n",
    "    'she is a queen',\n",
    "    'he is a man',\n",
    "    'he is a professor',\n",
    "    'she is a girl',\n",
    "    'she is very beautiful',\n",
    "    'I am very good',\n",
    "    'I am a pressident',\n",
    "    'he is a boy',\n",
    "    'she is a woman',\n",
    "    'Thailand has many temples',\n",
    "    'yellow pagoda',\n",
    "    'There are many temples in Thailand',\n",
    "    'Vietnam has many pagodas',\n",
    "    'Vietnam has many delicious dishes',\n",
    "    'Data Science and AI Rise in the World',\n",
    "    'Vietnam and Thailand are developing very fast in AI and Data Science',\n",
    "    'warsaw is poland capital',\n",
    "    'berlin is germany capital',\n",
    "    'paris is france capital',\n",
    "    'The capital of Vietnam is Hanoi',\n",
    "    'The capital of Thailand is Bangkok',\n",
    "    'NLP is too difficult',\n",
    "    'ML is too easy',\n",
    "    'CP is too difficult',\n",
    "    'Learning to ride a motorbike is easy',\n",
    "    'Learning to drive a car is easy',\n",
    "    'Math is too difficult',\n",
    "    'Linear is too easy',\n",
    "    'DMM is too difficult',\n",
    "    'I love you',\n",
    "    'I hate you',\n",
    "    'Spring is so warm',\n",
    "    'winter is so cold',\n",
    "    'I am so handsome'\n",
    "]"
   ]
  },
  {
   "cell_type": "code",
   "execution_count": 5,
   "id": "865b1a4e-46af-4d99-b783-4257eb024bf8",
   "metadata": {},
   "outputs": [
    {
     "data": {
      "text/plain": [
       "[['he', 'is', 'a', 'king'],\n",
       " ['he', 'is', 'a', 'teacher'],\n",
       " ['she', 'is', 'a', 'queen'],\n",
       " ['he', 'is', 'a', 'man'],\n",
       " ['he', 'is', 'a', 'professor'],\n",
       " ['she', 'is', 'a', 'girl'],\n",
       " ['she', 'is', 'very', 'beautiful'],\n",
       " ['I', 'am', 'very', 'good'],\n",
       " ['I', 'am', 'a', 'pressident'],\n",
       " ['he', 'is', 'a', 'boy'],\n",
       " ['she', 'is', 'a', 'woman'],\n",
       " ['Thailand', 'has', 'many', 'temples'],\n",
       " ['yellow', 'pagoda'],\n",
       " ['There', 'are', 'many', 'temples', 'in', 'Thailand'],\n",
       " ['Vietnam', 'has', 'many', 'pagodas'],\n",
       " ['Vietnam', 'has', 'many', 'delicious', 'dishes'],\n",
       " ['Data', 'Science', 'and', 'AI', 'Rise', 'in', 'the', 'World'],\n",
       " ['Vietnam',\n",
       "  'and',\n",
       "  'Thailand',\n",
       "  'are',\n",
       "  'developing',\n",
       "  'very',\n",
       "  'fast',\n",
       "  'in',\n",
       "  'AI',\n",
       "  'and',\n",
       "  'Data',\n",
       "  'Science'],\n",
       " ['warsaw', 'is', 'poland', 'capital'],\n",
       " ['berlin', 'is', 'germany', 'capital'],\n",
       " ['paris', 'is', 'france', 'capital'],\n",
       " ['The', 'capital', 'of', 'Vietnam', 'is', 'Hanoi'],\n",
       " ['The', 'capital', 'of', 'Thailand', 'is', 'Bangkok'],\n",
       " ['NLP', 'is', 'too', 'difficult'],\n",
       " ['ML', 'is', 'too', 'easy'],\n",
       " ['CP', 'is', 'too', 'difficult'],\n",
       " ['Learning', 'to', 'ride', 'a', 'motorbike', 'is', 'easy'],\n",
       " ['Learning', 'to', 'drive', 'a', 'car', 'is', 'easy'],\n",
       " ['Math', 'is', 'too', 'difficult'],\n",
       " ['Linear', 'is', 'too', 'easy'],\n",
       " ['DMM', 'is', 'too', 'difficult'],\n",
       " ['I', 'love', 'you'],\n",
       " ['I', 'hate', 'you'],\n",
       " ['Spring', 'is', 'so', 'warm'],\n",
       " ['winter', 'is', 'so', 'cold'],\n",
       " ['I', 'am', 'so', 'handsome']]"
      ]
     },
     "execution_count": 5,
     "metadata": {},
     "output_type": "execute_result"
    }
   ],
   "source": [
    "#1. tokenize\n",
    "#usually you use spaCy / NLTK to tokenize (but we gonna do this later on, we gonna have spaCy)\n",
    "corpus_tokenized = [sent.split(\" \") for sent in corpus]\n",
    "corpus_tokenized  #we called each of this as \"tokens\", NOT words"
   ]
  },
  {
   "cell_type": "code",
   "execution_count": 6,
   "id": "6bc39883-365f-4e78-b08a-77614d3b3e6b",
   "metadata": {},
   "outputs": [],
   "source": [
    "#2. numericalize\n",
    "\n",
    "#2.1 get all the unique words\n",
    "#we want to flatten this (basically merge all list)\n",
    "flatten = lambda l: [item for sublist in l for item in sublist]\n",
    "vocabs  = list(set(flatten(corpus_tokenized)))  #vocabs is a term defining all unique words your system know"
   ]
  },
  {
   "cell_type": "code",
   "execution_count": 7,
   "id": "973bbfe9-8493-4033-9e92-92fa3d09d03f",
   "metadata": {},
   "outputs": [],
   "source": [
    "#2.2 assign id to all these vocabs\n",
    "word2index = {v: idx for idx, v in enumerate(vocabs)}"
   ]
  },
  {
   "cell_type": "code",
   "execution_count": 8,
   "id": "9422ca5a-39f9-4d3c-93bc-600ef1c22ec7",
   "metadata": {},
   "outputs": [
    {
     "data": {
      "text/plain": [
       "51"
      ]
     },
     "execution_count": 8,
     "metadata": {},
     "output_type": "execute_result"
    }
   ],
   "source": [
    "word2index['AI']"
   ]
  },
  {
   "cell_type": "code",
   "execution_count": 9,
   "id": "dbfb7867-14af-431a-a064-7171f41835f5",
   "metadata": {},
   "outputs": [],
   "source": [
    "vocabs.append('<UNK>') #chaky, can it be ##UNK, or UNKKKKKK, or anything\n",
    "word2index['<UNK>'] = len(vocabs) -1  #usually <UNK> is 0"
   ]
  },
  {
   "cell_type": "code",
   "execution_count": 10,
   "id": "5663f7d9-d362-4721-b001-ef12dbcf90d1",
   "metadata": {},
   "outputs": [
    {
     "data": {
      "text/plain": [
       "{0: 'I',\n",
       " 1: 'Science',\n",
       " 2: 'she',\n",
       " 3: 'warsaw',\n",
       " 4: 'Data',\n",
       " 5: 'paris',\n",
       " 6: 'Rise',\n",
       " 7: 'ML',\n",
       " 8: 'Learning',\n",
       " 9: 'too',\n",
       " 10: 'pressident',\n",
       " 11: 'easy',\n",
       " 12: 'pagodas',\n",
       " 13: 'so',\n",
       " 14: 'good',\n",
       " 15: 'he',\n",
       " 16: 'are',\n",
       " 17: 'There',\n",
       " 18: 'the',\n",
       " 19: 'and',\n",
       " 20: 'teacher',\n",
       " 21: 'fast',\n",
       " 22: 'poland',\n",
       " 23: 'Bangkok',\n",
       " 24: 'Hanoi',\n",
       " 25: 'motorbike',\n",
       " 26: 'queen',\n",
       " 27: 'germany',\n",
       " 28: 'Math',\n",
       " 29: 'The',\n",
       " 30: 'professor',\n",
       " 31: 'difficult',\n",
       " 32: 'drive',\n",
       " 33: 'Linear',\n",
       " 34: 'woman',\n",
       " 35: 'has',\n",
       " 36: 'temples',\n",
       " 37: 'beautiful',\n",
       " 38: 'capital',\n",
       " 39: 'you',\n",
       " 40: 'NLP',\n",
       " 41: 'car',\n",
       " 42: 'developing',\n",
       " 43: 'is',\n",
       " 44: 'Vietnam',\n",
       " 45: 'france',\n",
       " 46: 'pagoda',\n",
       " 47: 'man',\n",
       " 48: 'dishes',\n",
       " 49: 'yellow',\n",
       " 50: 'girl',\n",
       " 51: 'AI',\n",
       " 52: 'of',\n",
       " 53: 'hate',\n",
       " 54: 'winter',\n",
       " 55: 'king',\n",
       " 56: 'in',\n",
       " 57: 'very',\n",
       " 58: 'a',\n",
       " 59: 'berlin',\n",
       " 60: 'warm',\n",
       " 61: 'Thailand',\n",
       " 62: 'World',\n",
       " 63: 'ride',\n",
       " 64: 'boy',\n",
       " 65: 'many',\n",
       " 66: 'Spring',\n",
       " 67: 'CP',\n",
       " 68: 'to',\n",
       " 69: 'am',\n",
       " 70: 'delicious',\n",
       " 71: 'DMM',\n",
       " 72: 'cold',\n",
       " 73: 'handsome',\n",
       " 74: 'love',\n",
       " 75: '<UNK>'}"
      ]
     },
     "execution_count": 10,
     "metadata": {},
     "output_type": "execute_result"
    }
   ],
   "source": [
    "index2word = {v:k for k, v in word2index.items()}\n",
    "\n",
    "index2word"
   ]
  },
  {
   "cell_type": "code",
   "execution_count": 11,
   "id": "f1f864f6-97ad-4aff-9929-aaeab40e6639",
   "metadata": {},
   "outputs": [
    {
     "data": {
      "text/plain": [
       "['I',\n",
       " 'Science',\n",
       " 'she',\n",
       " 'warsaw',\n",
       " 'Data',\n",
       " 'paris',\n",
       " 'Rise',\n",
       " 'ML',\n",
       " 'Learning',\n",
       " 'too',\n",
       " 'pressident',\n",
       " 'easy',\n",
       " 'pagodas',\n",
       " 'so',\n",
       " 'good',\n",
       " 'he',\n",
       " 'are',\n",
       " 'There',\n",
       " 'the',\n",
       " 'and',\n",
       " 'teacher',\n",
       " 'fast',\n",
       " 'poland',\n",
       " 'Bangkok',\n",
       " 'Hanoi',\n",
       " 'motorbike',\n",
       " 'queen',\n",
       " 'germany',\n",
       " 'Math',\n",
       " 'The',\n",
       " 'professor',\n",
       " 'difficult',\n",
       " 'drive',\n",
       " 'Linear',\n",
       " 'woman',\n",
       " 'has',\n",
       " 'temples',\n",
       " 'beautiful',\n",
       " 'capital',\n",
       " 'you',\n",
       " 'NLP',\n",
       " 'car',\n",
       " 'developing',\n",
       " 'is',\n",
       " 'Vietnam',\n",
       " 'france',\n",
       " 'pagoda',\n",
       " 'man',\n",
       " 'dishes',\n",
       " 'yellow',\n",
       " 'girl',\n",
       " 'AI',\n",
       " 'of',\n",
       " 'hate',\n",
       " 'winter',\n",
       " 'king',\n",
       " 'in',\n",
       " 'very',\n",
       " 'a',\n",
       " 'berlin',\n",
       " 'warm',\n",
       " 'Thailand',\n",
       " 'World',\n",
       " 'ride',\n",
       " 'boy',\n",
       " 'many',\n",
       " 'Spring',\n",
       " 'CP',\n",
       " 'to',\n",
       " 'am',\n",
       " 'delicious',\n",
       " 'DMM',\n",
       " 'cold',\n",
       " 'handsome',\n",
       " 'love',\n",
       " '<UNK>']"
      ]
     },
     "execution_count": 11,
     "metadata": {},
     "output_type": "execute_result"
    }
   ],
   "source": [
    "vocabs"
   ]
  },
  {
   "cell_type": "markdown",
   "id": "04ce7e1e-625c-46b4-a833-c3886ea2e4c7",
   "metadata": {},
   "source": [
    "### Prepare to train data"
   ]
  },
  {
   "cell_type": "code",
   "execution_count": 12,
   "id": "7ff11eab-bbb1-4aa8-9e5d-04e72c2a1cca",
   "metadata": {},
   "outputs": [
    {
     "data": {
      "text/plain": [
       "[['is', 'he'],\n",
       " ['is', 'a'],\n",
       " ['a', 'is'],\n",
       " ['a', 'king'],\n",
       " ['is', 'he'],\n",
       " ['is', 'a'],\n",
       " ['a', 'is'],\n",
       " ['a', 'teacher'],\n",
       " ['is', 'she'],\n",
       " ['is', 'a'],\n",
       " ['a', 'is'],\n",
       " ['a', 'queen'],\n",
       " ['is', 'he'],\n",
       " ['is', 'a'],\n",
       " ['a', 'is'],\n",
       " ['a', 'man'],\n",
       " ['is', 'he'],\n",
       " ['is', 'a'],\n",
       " ['a', 'is'],\n",
       " ['a', 'professor'],\n",
       " ['is', 'she'],\n",
       " ['is', 'a'],\n",
       " ['a', 'is'],\n",
       " ['a', 'girl'],\n",
       " ['is', 'she'],\n",
       " ['is', 'very'],\n",
       " ['very', 'is'],\n",
       " ['very', 'beautiful'],\n",
       " ['am', 'I'],\n",
       " ['am', 'very'],\n",
       " ['very', 'am'],\n",
       " ['very', 'good'],\n",
       " ['am', 'I'],\n",
       " ['am', 'a'],\n",
       " ['a', 'am'],\n",
       " ['a', 'pressident'],\n",
       " ['is', 'he'],\n",
       " ['is', 'a'],\n",
       " ['a', 'is'],\n",
       " ['a', 'boy'],\n",
       " ['is', 'she'],\n",
       " ['is', 'a'],\n",
       " ['a', 'is'],\n",
       " ['a', 'woman'],\n",
       " ['has', 'Thailand'],\n",
       " ['has', 'many'],\n",
       " ['many', 'has'],\n",
       " ['many', 'temples'],\n",
       " ['are', 'There'],\n",
       " ['are', 'many'],\n",
       " ['many', 'are'],\n",
       " ['many', 'temples'],\n",
       " ['temples', 'many'],\n",
       " ['temples', 'in'],\n",
       " ['in', 'temples'],\n",
       " ['in', 'Thailand'],\n",
       " ['has', 'Vietnam'],\n",
       " ['has', 'many'],\n",
       " ['many', 'has'],\n",
       " ['many', 'pagodas'],\n",
       " ['has', 'Vietnam'],\n",
       " ['has', 'many'],\n",
       " ['many', 'has'],\n",
       " ['many', 'delicious'],\n",
       " ['delicious', 'many'],\n",
       " ['delicious', 'dishes'],\n",
       " ['Science', 'Data'],\n",
       " ['Science', 'and'],\n",
       " ['and', 'Science'],\n",
       " ['and', 'AI'],\n",
       " ['AI', 'and'],\n",
       " ['AI', 'Rise'],\n",
       " ['Rise', 'AI'],\n",
       " ['Rise', 'in'],\n",
       " ['in', 'Rise'],\n",
       " ['in', 'the'],\n",
       " ['the', 'in'],\n",
       " ['the', 'World'],\n",
       " ['and', 'Vietnam'],\n",
       " ['and', 'Thailand'],\n",
       " ['Thailand', 'and'],\n",
       " ['Thailand', 'are'],\n",
       " ['are', 'Thailand'],\n",
       " ['are', 'developing'],\n",
       " ['developing', 'are'],\n",
       " ['developing', 'very'],\n",
       " ['very', 'developing'],\n",
       " ['very', 'fast'],\n",
       " ['fast', 'very'],\n",
       " ['fast', 'in'],\n",
       " ['in', 'fast'],\n",
       " ['in', 'AI'],\n",
       " ['AI', 'in'],\n",
       " ['AI', 'and'],\n",
       " ['and', 'AI'],\n",
       " ['and', 'Data'],\n",
       " ['Data', 'and'],\n",
       " ['Data', 'Science'],\n",
       " ['is', 'warsaw'],\n",
       " ['is', 'poland'],\n",
       " ['poland', 'is'],\n",
       " ['poland', 'capital'],\n",
       " ['is', 'berlin'],\n",
       " ['is', 'germany'],\n",
       " ['germany', 'is'],\n",
       " ['germany', 'capital'],\n",
       " ['is', 'paris'],\n",
       " ['is', 'france'],\n",
       " ['france', 'is'],\n",
       " ['france', 'capital'],\n",
       " ['capital', 'The'],\n",
       " ['capital', 'of'],\n",
       " ['of', 'capital'],\n",
       " ['of', 'Vietnam'],\n",
       " ['Vietnam', 'of'],\n",
       " ['Vietnam', 'is'],\n",
       " ['is', 'Vietnam'],\n",
       " ['is', 'Hanoi'],\n",
       " ['capital', 'The'],\n",
       " ['capital', 'of'],\n",
       " ['of', 'capital'],\n",
       " ['of', 'Thailand'],\n",
       " ['Thailand', 'of'],\n",
       " ['Thailand', 'is'],\n",
       " ['is', 'Thailand'],\n",
       " ['is', 'Bangkok'],\n",
       " ['is', 'NLP'],\n",
       " ['is', 'too'],\n",
       " ['too', 'is'],\n",
       " ['too', 'difficult'],\n",
       " ['is', 'ML'],\n",
       " ['is', 'too'],\n",
       " ['too', 'is'],\n",
       " ['too', 'easy'],\n",
       " ['is', 'CP'],\n",
       " ['is', 'too'],\n",
       " ['too', 'is'],\n",
       " ['too', 'difficult'],\n",
       " ['to', 'Learning'],\n",
       " ['to', 'ride'],\n",
       " ['ride', 'to'],\n",
       " ['ride', 'a'],\n",
       " ['a', 'ride'],\n",
       " ['a', 'motorbike'],\n",
       " ['motorbike', 'a'],\n",
       " ['motorbike', 'is'],\n",
       " ['is', 'motorbike'],\n",
       " ['is', 'easy'],\n",
       " ['to', 'Learning'],\n",
       " ['to', 'drive'],\n",
       " ['drive', 'to'],\n",
       " ['drive', 'a'],\n",
       " ['a', 'drive'],\n",
       " ['a', 'car'],\n",
       " ['car', 'a'],\n",
       " ['car', 'is'],\n",
       " ['is', 'car'],\n",
       " ['is', 'easy'],\n",
       " ['is', 'Math'],\n",
       " ['is', 'too'],\n",
       " ['too', 'is'],\n",
       " ['too', 'difficult'],\n",
       " ['is', 'Linear'],\n",
       " ['is', 'too'],\n",
       " ['too', 'is'],\n",
       " ['too', 'easy'],\n",
       " ['is', 'DMM'],\n",
       " ['is', 'too'],\n",
       " ['too', 'is'],\n",
       " ['too', 'difficult'],\n",
       " ['love', 'I'],\n",
       " ['love', 'you'],\n",
       " ['hate', 'I'],\n",
       " ['hate', 'you'],\n",
       " ['is', 'Spring'],\n",
       " ['is', 'so'],\n",
       " ['so', 'is'],\n",
       " ['so', 'warm'],\n",
       " ['is', 'winter'],\n",
       " ['is', 'so'],\n",
       " ['so', 'is'],\n",
       " ['so', 'cold'],\n",
       " ['am', 'I'],\n",
       " ['am', 'so'],\n",
       " ['so', 'am'],\n",
       " ['so', 'handsome']]"
      ]
     },
     "execution_count": 12,
     "metadata": {},
     "output_type": "execute_result"
    }
   ],
   "source": [
    "#move along the corpus\n",
    "#to fit with our corpus, we gonna use window_size = 1\n",
    "skipgrams = []\n",
    "\n",
    "#for each corpus\n",
    "for sent in corpus_tokenized:\n",
    "    #for each sent [\"apple\", \"banana\", \"fruit\"]\n",
    "    for i in range(1, len(sent) - 1): #start from 1 to second last\n",
    "        center_word = sent[i]\n",
    "        outside_words = [sent[i-1], sent[i+1]]  #window_size = 1\n",
    "        for o in outside_words:\n",
    "            skipgrams.append([center_word, o])\n",
    "skipgrams\n",
    "        \n",
    "#here we want to create (banana, apple), (banana, fruit) append to some list"
   ]
  },
  {
   "cell_type": "code",
   "execution_count": 13,
   "id": "5b178633-4146-41c1-9393-1349b519ad55",
   "metadata": {},
   "outputs": [],
   "source": [
    "def random_batch(batch_size, corpus):\n",
    "    \n",
    "    skipgrams = []\n",
    "\n",
    "    #for each corpus\n",
    "    for sent in corpus_tokenized:\n",
    "        #for each sent [\"Vietnam\", \"Thailand\", \"of\"]\n",
    "        for i in range(1, len(sent) - 1): #start from 1 to second last\n",
    "            center_word = word2index[sent[i]]\n",
    "            outside_words = [word2index[sent[i-1]], word2index[sent[i+1]]]  #window_size = 1\n",
    "            for o in outside_words:\n",
    "                skipgrams.append([center_word, o])\n",
    "                \n",
    "    #only get a batch, not the entire list\n",
    "    random_index = np.random.choice(range(len(skipgrams)), batch_size, replace=False)\n",
    "             \n",
    "    #appending some list of inputs and labels\n",
    "    random_inputs, random_labels = [], []   \n",
    "    for index in random_index:\n",
    "        random_inputs.append([skipgrams[index][0]])  #center words, this will be a shape of (1, ) --> (1, 1) for modeling\n",
    "        random_labels.append([skipgrams[index][1]])\n",
    "        \n",
    "    return np.array(random_inputs), np.array(random_labels)"
   ]
  },
  {
   "cell_type": "code",
   "execution_count": 14,
   "id": "3a5eeeaf-2000-484a-9d4c-fff33c6b7c42",
   "metadata": {},
   "outputs": [
    {
     "name": "stdout",
     "output_type": "stream",
     "text": [
      "(10, 1)\n",
      "label=array([[19],\n",
      "       [43],\n",
      "       [10],\n",
      "       [ 1],\n",
      "       [58],\n",
      "       [ 0],\n",
      "       [61],\n",
      "       [56],\n",
      "       [ 1],\n",
      "       [43]])\n"
     ]
    }
   ],
   "source": [
    "input, label = random_batch(10, corpus_tokenized)\n",
    "\n",
    "print(f\"{input.shape}\")\n",
    "print(f\"{label=}\")"
   ]
  },
  {
   "cell_type": "code",
   "execution_count": 15,
   "id": "b9e115ea-c200-4186-b682-696c9e4b982b",
   "metadata": {},
   "outputs": [
    {
     "data": {
      "text/plain": [
       "76"
      ]
     },
     "execution_count": 15,
     "metadata": {},
     "output_type": "execute_result"
    }
   ],
   "source": [
    "voc_size = len(vocabs)\n",
    "voc_size"
   ]
  },
  {
   "cell_type": "code",
   "execution_count": 16,
   "id": "6503fc63-e1c0-4361-8216-25b4b65ef653",
   "metadata": {},
   "outputs": [
    {
     "data": {
      "text/plain": [
       "['I',\n",
       " 'Science',\n",
       " 'she',\n",
       " 'warsaw',\n",
       " 'Data',\n",
       " 'paris',\n",
       " 'Rise',\n",
       " 'ML',\n",
       " 'Learning',\n",
       " 'too',\n",
       " 'pressident',\n",
       " 'easy',\n",
       " 'pagodas',\n",
       " 'so',\n",
       " 'good',\n",
       " 'he',\n",
       " 'are',\n",
       " 'There',\n",
       " 'the',\n",
       " 'and',\n",
       " 'teacher',\n",
       " 'fast',\n",
       " 'poland',\n",
       " 'Bangkok',\n",
       " 'Hanoi',\n",
       " 'motorbike',\n",
       " 'queen',\n",
       " 'germany',\n",
       " 'Math',\n",
       " 'The',\n",
       " 'professor',\n",
       " 'difficult',\n",
       " 'drive',\n",
       " 'Linear',\n",
       " 'woman',\n",
       " 'has',\n",
       " 'temples',\n",
       " 'beautiful',\n",
       " 'capital',\n",
       " 'you',\n",
       " 'NLP',\n",
       " 'car',\n",
       " 'developing',\n",
       " 'is',\n",
       " 'Vietnam',\n",
       " 'france',\n",
       " 'pagoda',\n",
       " 'man',\n",
       " 'dishes',\n",
       " 'yellow',\n",
       " 'girl',\n",
       " 'AI',\n",
       " 'of',\n",
       " 'hate',\n",
       " 'winter',\n",
       " 'king',\n",
       " 'in',\n",
       " 'very',\n",
       " 'a',\n",
       " 'berlin',\n",
       " 'warm',\n",
       " 'Thailand',\n",
       " 'World',\n",
       " 'ride',\n",
       " 'boy',\n",
       " 'many',\n",
       " 'Spring',\n",
       " 'CP',\n",
       " 'to',\n",
       " 'am',\n",
       " 'delicious',\n",
       " 'DMM',\n",
       " 'cold',\n",
       " 'handsome',\n",
       " 'love',\n",
       " '<UNK>']"
      ]
     },
     "execution_count": 16,
     "metadata": {},
     "output_type": "execute_result"
    }
   ],
   "source": [
    "vocabs"
   ]
  },
  {
   "cell_type": "markdown",
   "id": "42006923-c776-4179-afd5-2d597015a82e",
   "metadata": {},
   "source": [
    "### Module"
   ]
  },
  {
   "cell_type": "code",
   "execution_count": 17,
   "id": "550f0ae7-a3fb-42cd-a1d8-83db48d1b6f4",
   "metadata": {},
   "outputs": [],
   "source": [
    "class Skipgram(nn.Module):\n",
    "    \n",
    "    def __init__(self, voc_size, emb_size):\n",
    "        super(Skipgram, self).__init__()\n",
    "        self.embedding_center_word  = nn.Embedding(voc_size, emb_size)  #is a lookup table mapping all ids in voc_size, into some vector of size emb_size\n",
    "        self.embedding_outside_word = nn.Embedding(voc_size, emb_size)\n",
    "    \n",
    "    def forward(self, center_word, outside_word, all_vocabs):\n",
    "        #center_word, outside_word: (batch_size, 1)\n",
    "        #all_vocabs: (batch_size, voc_size)\n",
    "        \n",
    "        #convert them into embedding\n",
    "        center_word_embed  = self.embedding_center_word(center_word)     #(batch_size, 1, emb_size)\n",
    "        outside_word_embed = self.embedding_outside_word(outside_word)   #(batch_size, 1, emb_size)\n",
    "        all_vocabs_embed   = self.embedding_outside_word(all_vocabs)     #(batch_size, voc_size, emb_size)\n",
    "        \n",
    "        #bmm is basically @ or .dot , but across batches (i.e., ignore the batch dimension)\n",
    "        top_term = outside_word_embed.bmm(center_word_embed.transpose(1, 2)).squeeze(2)\n",
    "        #(batch_size, 1, emb_size) @ (batch_size, emb_size, 1) = (batch_size, 1, 1) ===> (batch_size, 1)\n",
    "        \n",
    "        top_term_exp = torch.exp(top_term)  #exp(uo vc)\n",
    "        #(batch_size, 1)\n",
    "        \n",
    "        lower_term = all_vocabs_embed.bmm(center_word_embed.transpose(1, 2)).squeeze(2)\n",
    "         #(batch_size, voc_size, emb_size) @ (batch_size, emb_size, 1) = (batch_size, voc_size, 1) = (batch_size, voc_size)\n",
    "         \n",
    "        lower_term_sum = torch.sum(torch.exp(lower_term), 1) #sum exp(uw vc)\n",
    "        #(batch_size, 1)\n",
    "        \n",
    "        loss_fn = -torch.mean(torch.log(top_term_exp / lower_term_sum))\n",
    "        #(batch_size, 1) / (batch_size, 1) ==mean==> scalar\n",
    "        \n",
    "        return loss_fn"
   ]
  },
  {
   "cell_type": "code",
   "execution_count": 18,
   "id": "a9629775-c3ba-4ca7-99b9-5963d27ab4e2",
   "metadata": {},
   "outputs": [
    {
     "data": {
      "text/plain": [
       "torch.Size([2, 76])"
      ]
     },
     "execution_count": 18,
     "metadata": {},
     "output_type": "execute_result"
    }
   ],
   "source": [
    "batch_size = 2\n",
    "\n",
    "def prepare_sequence(seq, word2index):\n",
    "    #map(function, list of something)\n",
    "    #map will look at each of element in this list, and apply this function\n",
    "    idxs = list(map(lambda w: word2index[w] if word2index.get(w) is not None else word2index[\"<UNK>\"], seq))\n",
    "    return torch.LongTensor(idxs)\n",
    "\n",
    "all_vocabs = prepare_sequence(list(vocabs), word2index).expand(batch_size, voc_size)\n",
    "all_vocabs.shape"
   ]
  },
  {
   "cell_type": "code",
   "execution_count": 19,
   "id": "38a4075a-75ff-41cf-93b8-45ba2f64a245",
   "metadata": {},
   "outputs": [
    {
     "data": {
      "text/plain": [
       "76"
      ]
     },
     "execution_count": 19,
     "metadata": {},
     "output_type": "execute_result"
    }
   ],
   "source": [
    "voc_size"
   ]
  },
  {
   "cell_type": "code",
   "execution_count": 20,
   "id": "7bc0d47d-9c96-4339-b8c6-020784c005bb",
   "metadata": {},
   "outputs": [
    {
     "data": {
      "text/plain": [
       "array([[ 9],\n",
       "       [43]])"
      ]
     },
     "execution_count": 20,
     "metadata": {},
     "output_type": "execute_result"
    }
   ],
   "source": [
    "input, label = random_batch(batch_size, corpus_tokenized)\n",
    "input"
   ]
  },
  {
   "cell_type": "code",
   "execution_count": 21,
   "id": "af5093e8-d739-40d6-b053-db2d9f966ab5",
   "metadata": {},
   "outputs": [
    {
     "data": {
      "text/plain": [
       "array([[31],\n",
       "       [ 9]])"
      ]
     },
     "execution_count": 21,
     "metadata": {},
     "output_type": "execute_result"
    }
   ],
   "source": [
    "label #context word"
   ]
  },
  {
   "cell_type": "code",
   "execution_count": 22,
   "id": "edc05dec-dcf3-4330-bf75-a90e6bc39dd2",
   "metadata": {},
   "outputs": [],
   "source": [
    "emb_size = 2 #usually, this can be 50, 100, or 300\n",
    "model = Skipgram(voc_size, emb_size)"
   ]
  },
  {
   "cell_type": "code",
   "execution_count": 23,
   "id": "fd4a55bc-7b8d-4087-be5c-09dc052e7604",
   "metadata": {},
   "outputs": [],
   "source": [
    "input_tensor = torch.LongTensor(input)  \n",
    "label_tensor = torch.LongTensor(label)  #LongTensor basically means integer...."
   ]
  },
  {
   "cell_type": "code",
   "execution_count": 24,
   "id": "c013d2ab-c95d-44f0-9142-995ca3440453",
   "metadata": {},
   "outputs": [
    {
     "data": {
      "text/plain": [
       "tensor([7382365578999377504, 2314885437407982191])"
      ]
     },
     "execution_count": 24,
     "metadata": {},
     "output_type": "execute_result"
    }
   ],
   "source": [
    "torch.LongTensor(2)"
   ]
  },
  {
   "cell_type": "code",
   "execution_count": 25,
   "id": "38ab5908-cd21-4a75-ac27-2527bb675558",
   "metadata": {},
   "outputs": [
    {
     "data": {
      "text/plain": [
       "tensor([2])"
      ]
     },
     "execution_count": 25,
     "metadata": {},
     "output_type": "execute_result"
    }
   ],
   "source": [
    "torch.LongTensor([2]) "
   ]
  },
  {
   "cell_type": "code",
   "execution_count": 26,
   "id": "ae03c344-1eb3-498c-bead-84fd92397d92",
   "metadata": {},
   "outputs": [
    {
     "data": {
      "text/plain": [
       "torch.Size([2, 1])"
      ]
     },
     "execution_count": 26,
     "metadata": {},
     "output_type": "execute_result"
    }
   ],
   "source": [
    "input_tensor.shape"
   ]
  },
  {
   "cell_type": "code",
   "execution_count": 27,
   "id": "8c6440ac-098f-40e7-aee9-bfd0c470e26f",
   "metadata": {},
   "outputs": [
    {
     "data": {
      "text/plain": [
       "torch.Size([2, 1])"
      ]
     },
     "execution_count": 27,
     "metadata": {},
     "output_type": "execute_result"
    }
   ],
   "source": [
    "label_tensor.shape"
   ]
  },
  {
   "cell_type": "code",
   "execution_count": 28,
   "id": "d8653e1e-f25b-4439-9572-04d81a73329b",
   "metadata": {},
   "outputs": [
    {
     "data": {
      "text/plain": [
       "tensor([[ 0,  1,  2,  3,  4,  5,  6,  7,  8,  9, 10, 11, 12, 13, 14, 15, 16, 17,\n",
       "         18, 19, 20, 21, 22, 23, 24, 25, 26, 27, 28, 29, 30, 31, 32, 33, 34, 35,\n",
       "         36, 37, 38, 39, 40, 41, 42, 43, 44, 45, 46, 47, 48, 49, 50, 51, 52, 53,\n",
       "         54, 55, 56, 57, 58, 59, 60, 61, 62, 63, 64, 65, 66, 67, 68, 69, 70, 71,\n",
       "         72, 73, 74, 75],\n",
       "        [ 0,  1,  2,  3,  4,  5,  6,  7,  8,  9, 10, 11, 12, 13, 14, 15, 16, 17,\n",
       "         18, 19, 20, 21, 22, 23, 24, 25, 26, 27, 28, 29, 30, 31, 32, 33, 34, 35,\n",
       "         36, 37, 38, 39, 40, 41, 42, 43, 44, 45, 46, 47, 48, 49, 50, 51, 52, 53,\n",
       "         54, 55, 56, 57, 58, 59, 60, 61, 62, 63, 64, 65, 66, 67, 68, 69, 70, 71,\n",
       "         72, 73, 74, 75]])"
      ]
     },
     "execution_count": 28,
     "metadata": {},
     "output_type": "execute_result"
    }
   ],
   "source": [
    "all_vocabs"
   ]
  },
  {
   "cell_type": "code",
   "execution_count": 29,
   "id": "68672ac8-31d1-48f2-af53-d995173a11dc",
   "metadata": {},
   "outputs": [],
   "source": [
    "loss = model(input_tensor, label_tensor, all_vocabs)"
   ]
  },
  {
   "cell_type": "code",
   "execution_count": 30,
   "id": "c13b20a6-0fc5-4df7-bed8-87335be4ce58",
   "metadata": {},
   "outputs": [
    {
     "data": {
      "text/plain": [
       "tensor(4.5740, grad_fn=<NegBackward0>)"
      ]
     },
     "execution_count": 30,
     "metadata": {},
     "output_type": "execute_result"
    }
   ],
   "source": [
    "loss"
   ]
  },
  {
   "cell_type": "code",
   "execution_count": 31,
   "id": "06e8b06a-8290-49a5-8c20-2c49ba80b67f",
   "metadata": {},
   "outputs": [],
   "source": [
    "batch_size = 2 #why?  no reason; \n",
    "emb_size   = 2 #why?  no reason; usually 50, 100, 300, but 2 so we can plot (50 can also plot, but need PCA)\n",
    "model      = Skipgram(voc_size, emb_size)\n",
    "\n",
    "optimizer  = optim.Adam(model.parameters(), lr=0.001)"
   ]
  },
  {
   "cell_type": "markdown",
   "id": "6efdafdf-6db7-4435-84d1-beb9d09cdeb8",
   "metadata": {},
   "source": [
    "### Training module"
   ]
  },
  {
   "cell_type": "code",
   "execution_count": 32,
   "id": "9c44eee8-fa0b-4131-a6c9-e3cfa92c037b",
   "metadata": {},
   "outputs": [
    {
     "name": "stdout",
     "output_type": "stream",
     "text": [
      "Epoch 1000 | Loss: 4.833241 | time: 1.3383855819702148\n",
      "Epoch 2000 | Loss: 5.114820 | time: 2.630401134490967\n",
      "Epoch 3000 | Loss: 1.729257 | time: 4.274210453033447\n",
      "Epoch 4000 | Loss: 5.219905 | time: 5.806239604949951\n",
      "Epoch 5000 | Loss: 2.898548 | time: 7.312983989715576\n"
     ]
    }
   ],
   "source": [
    "import time\n",
    "num_epochs = 5000\n",
    "starttime = time.time()\n",
    "#for epoch\n",
    "for epoch in range(num_epochs):\n",
    "    #get random batch\n",
    "    input_batch, label_batch = random_batch(batch_size, corpus)\n",
    "    input_batch = torch.LongTensor(input_batch)\n",
    "    label_batch = torch.LongTensor(label_batch)\n",
    "    \n",
    "    # print(input_batch.shape, label_batch.shape, all_vocabs.shape)\n",
    "    \n",
    "    #loss = model\n",
    "    loss = model(input_batch, label_batch, all_vocabs)\n",
    "    \n",
    "    #backpropagate\n",
    "    loss.backward()\n",
    "    \n",
    "    #update alpha\n",
    "    optimizer.step()\n",
    "    endtime =time.time()\n",
    "    #print epoch loss\n",
    "    if (epoch + 1) % 1000 == 0:\n",
    "        print(f\"Epoch {epoch+1} | Loss: {loss:.6f} | time: {(endtime - starttime)} \")"
   ]
  },
  {
   "cell_type": "code",
   "execution_count": 33,
   "id": "fdb3e6cb-4957-4823-a241-bc451c56d055",
   "metadata": {},
   "outputs": [
    {
     "data": {
      "text/plain": [
       "['I',\n",
       " 'Science',\n",
       " 'she',\n",
       " 'warsaw',\n",
       " 'Data',\n",
       " 'paris',\n",
       " 'Rise',\n",
       " 'ML',\n",
       " 'Learning',\n",
       " 'too',\n",
       " 'pressident',\n",
       " 'easy',\n",
       " 'pagodas',\n",
       " 'so',\n",
       " 'good',\n",
       " 'he',\n",
       " 'are',\n",
       " 'There',\n",
       " 'the',\n",
       " 'and',\n",
       " 'teacher',\n",
       " 'fast',\n",
       " 'poland',\n",
       " 'Bangkok',\n",
       " 'Hanoi',\n",
       " 'motorbike',\n",
       " 'queen',\n",
       " 'germany',\n",
       " 'Math',\n",
       " 'The',\n",
       " 'professor',\n",
       " 'difficult',\n",
       " 'drive',\n",
       " 'Linear',\n",
       " 'woman',\n",
       " 'has',\n",
       " 'temples',\n",
       " 'beautiful',\n",
       " 'capital',\n",
       " 'you',\n",
       " 'NLP',\n",
       " 'car',\n",
       " 'developing',\n",
       " 'is',\n",
       " 'Vietnam',\n",
       " 'france',\n",
       " 'pagoda',\n",
       " 'man',\n",
       " 'dishes',\n",
       " 'yellow',\n",
       " 'girl',\n",
       " 'AI',\n",
       " 'of',\n",
       " 'hate',\n",
       " 'winter',\n",
       " 'king',\n",
       " 'in',\n",
       " 'very',\n",
       " 'a',\n",
       " 'berlin',\n",
       " 'warm',\n",
       " 'Thailand',\n",
       " 'World',\n",
       " 'ride',\n",
       " 'boy',\n",
       " 'many',\n",
       " 'Spring',\n",
       " 'CP',\n",
       " 'to',\n",
       " 'am',\n",
       " 'delicious',\n",
       " 'DMM',\n",
       " 'cold',\n",
       " 'handsome',\n",
       " 'love',\n",
       " '<UNK>']"
      ]
     },
     "execution_count": 33,
     "metadata": {},
     "output_type": "execute_result"
    }
   ],
   "source": [
    "\n",
    "vocabs"
   ]
  },
  {
   "cell_type": "code",
   "execution_count": 34,
   "id": "fe44c87d-83c3-4632-bdbb-de85f1e6de9a",
   "metadata": {},
   "outputs": [
    {
     "data": {
      "text/plain": [
       "tensor([15])"
      ]
     },
     "execution_count": 34,
     "metadata": {},
     "output_type": "execute_result"
    }
   ],
   "source": [
    "he = torch.LongTensor([word2index['he']])\n",
    "he"
   ]
  },
  {
   "cell_type": "code",
   "execution_count": 35,
   "id": "048ff3b5-ee8c-401e-9377-711d061a4943",
   "metadata": {},
   "outputs": [
    {
     "data": {
      "text/plain": [
       "tensor([[ 0.8111, -0.1896]], grad_fn=<DivBackward0>)"
      ]
     },
     "execution_count": 35,
     "metadata": {},
     "output_type": "execute_result"
    }
   ],
   "source": [
    "he_center_embed = model.embedding_center_word(he)\n",
    "he_outisde_embed = model.embedding_outside_word(he)\n",
    "\n",
    "he_embed = (he_center_embed + he_outisde_embed) / 2\n",
    "he_embed"
   ]
  },
  {
   "cell_type": "code",
   "execution_count": 36,
   "id": "98a8b17b-6dac-41c6-baa5-f96c878ae041",
   "metadata": {},
   "outputs": [],
   "source": [
    "def get_embed(word):\n",
    "    try:\n",
    "        index = word2index[word]\n",
    "    except:\n",
    "        index = word2index['<UNK>']\n",
    "    \n",
    "    word = torch.LongTensor([index])\n",
    "\n",
    "    center_embed  = model.embedding_center_word(word)\n",
    "    outside_embed = model.embedding_outside_word(word)\n",
    "    \n",
    "    embed = (center_embed + outside_embed) / 2\n",
    "    \n",
    "    return  embed[0][0].item(), embed[0][1].item()"
   ]
  },
  {
   "cell_type": "code",
   "execution_count": 37,
   "id": "f4d9fcb7-b978-4272-8e87-d34ea8c1afd8",
   "metadata": {},
   "outputs": [
    {
     "name": "stdout",
     "output_type": "stream",
     "text": [
      "(-1.8223668336868286, 1.3845864534378052)\n",
      "(-0.9080995321273804, -1.1038594245910645)\n",
      "(1.6490548849105835, -0.5850120782852173)\n"
     ]
    }
   ],
   "source": [
    "#find embedding of fruit, cat\n",
    "print(get_embed('she'))\n",
    "print(get_embed('king'))\n",
    "print(get_embed('women'))"
   ]
  },
  {
   "cell_type": "markdown",
   "id": "f3d66c88-7d16-43ad-9490-dcd6d3d3da70",
   "metadata": {},
   "source": [
    "### Plot"
   ]
  },
  {
   "cell_type": "code",
   "execution_count": 38,
   "id": "1534d123-18b6-4251-9128-1396e0f21c20",
   "metadata": {},
   "outputs": [
    {
     "data": {
      "image/png": "[encoded data removed]",
      "text/plain": [
       "<Figure size 720x720 with 1 Axes>"
      ]
     },
     "metadata": {
      "needs_background": "light"
     },
     "output_type": "display_data"
    }
   ],
   "source": [
    "plt.figure(figsize=(10,10))\n",
    "for i, word in enumerate(vocabs[:50]): #loop each unique vocab\n",
    "    x, y = get_embed(word)\n",
    "    plt.scatter(x, y)\n",
    "    plt.annotate(word, xy=(x, y), xytext=(5, 2), textcoords='offset points')\n",
    "plt.show()"
   ]
  },
  {
   "cell_type": "markdown",
   "id": "34d24e9a-344e-4bd8-9ffc-7c084a5af33e",
   "metadata": {},
   "source": [
    "## Question 2: Try a window size of 2"
   ]
  },
  {
   "cell_type": "code",
   "execution_count": 39,
   "id": "0742c727-d69a-4581-8e83-6e80d713fa06",
   "metadata": {},
   "outputs": [],
   "source": [
    "#let's make what we have made into a function (batch function)\n",
    "#return a batches of data, e.g., =2 --> ['banana', 'apple'], ['banana', 'fruit']\n",
    "#also i want these batches to be id, NOT token   --> [5, 4]\n",
    "def random_batch(batch_size, corpus,window_size=1):\n",
    "    skipgrams = []\n",
    "    #for each corpus\n",
    "    for sent in corpus_tokenized:\n",
    "        for i in range(window_size, len(sent) - window_size):\n",
    "            center_word = word2index[sent[i]]\n",
    "            for z in range(window_size):\n",
    "                outside_words = [word2index[sent[i-1-z]], word2index[sent[i+1+z]]] #Let it slide 2 from 1 time, every 2 from it encodes into 1 float\n",
    "                #print(outside_words)\n",
    "                for o in outside_words:\n",
    "                    skipgrams.append([center_word, o])\n",
    "                \n",
    "    #only get a batch, not the entire list\n",
    "    random_index = np.random.choice(range(len(skipgrams)), batch_size, replace=False)\n",
    "             \n",
    "    #appending some list of inputs and labels\n",
    "    random_inputs, random_labels = [], []   \n",
    "    for index in random_index:\n",
    "        random_inputs.append([skipgrams[index][0]])  #center words, this will be a shape of (1, ) --> (1, 1) for modeling\n",
    "        random_labels.append([skipgrams[index][1]])\n",
    "        \n",
    "    return np.array(random_inputs), np.array(random_labels)"
   ]
  },
  {
   "cell_type": "code",
   "execution_count": 40,
   "id": "4d63f287-f8c6-47d6-9117-6d315d2f2ad4",
   "metadata": {},
   "outputs": [
    {
     "name": "stdout",
     "output_type": "stream",
     "text": [
      "(10, 1)\n",
      "label=array([[51],\n",
      "       [68],\n",
      "       [44],\n",
      "       [29],\n",
      "       [68],\n",
      "       [ 4],\n",
      "       [ 1],\n",
      "       [43],\n",
      "       [70],\n",
      "       [42]])\n"
     ]
    }
   ],
   "source": [
    "input, label = random_batch(10,corpus_tokenized,2)\n",
    "print(f\"{input.shape}\")\n",
    "print(f\"{label=}\")"
   ]
  },
  {
   "cell_type": "markdown",
   "id": "094a9ab4-ae85-4d6a-8d32-5adcd9f48163",
   "metadata": {},
   "source": [
    "### Module"
   ]
  },
  {
   "cell_type": "code",
   "execution_count": 41,
   "id": "20d6297f-25f3-4e0c-af2d-c41a2fde6746",
   "metadata": {},
   "outputs": [],
   "source": [
    "class Skipgram(nn.Module):\n",
    "    \n",
    "    def __init__(self, voc_size, emb_size):\n",
    "        super(Skipgram, self).__init__()\n",
    "        self.embedding_center_word  = nn.Embedding(voc_size, emb_size)  #is a lookup table mapping all ids in voc_size, into some vector of size emb_size\n",
    "        self.embedding_outside_word = nn.Embedding(voc_size, emb_size)\n",
    "    \n",
    "    def forward(self, center_word, outside_word, all_vocabs):\n",
    "        #center_word, outside_word: (batch_size, 1)\n",
    "        #all_vocabs: (batch_size, voc_size)\n",
    "        \n",
    "        #convert them into embedding\n",
    "        center_word_embed  = self.embedding_center_word(center_word)     #(batch_size, 1, emb_size)\n",
    "        outside_word_embed = self.embedding_outside_word(outside_word)   #(batch_size, 1, emb_size)\n",
    "        all_vocabs_embed   = self.embedding_outside_word(all_vocabs)     #(batch_size, voc_size, emb_size)\n",
    "        \n",
    "        #bmm is basically @ or .dot , but across batches (i.e., ignore the batch dimension)\n",
    "        top_term = outside_word_embed.bmm(center_word_embed.transpose(1, 2)).squeeze(2)\n",
    "        #(batch_size, 1, emb_size) @ (batch_size, emb_size, 1) = (batch_size, 1, 1) ===> (batch_size, 1)\n",
    "        \n",
    "        top_term_exp = torch.exp(top_term)  #exp(uo vc)\n",
    "        #(batch_size, 1)\n",
    "        \n",
    "        lower_term = all_vocabs_embed.bmm(center_word_embed.transpose(1, 2)).squeeze(2)\n",
    "         #(batch_size, voc_size, emb_size) @ (batch_size, emb_size, 1) = (batch_size, voc_size, 1) = (batch_size, voc_size)\n",
    "         \n",
    "        lower_term_sum = torch.sum(torch.exp(lower_term), 1) #sum exp(uw vc)\n",
    "        #(batch_size, 1)\n",
    "        \n",
    "        loss_fn = -torch.mean(torch.log(top_term_exp / lower_term_sum))\n",
    "        #(batch_size, 1) / (batch_size, 1) ==mean==> scalar\n",
    "        \n",
    "        return loss_fn"
   ]
  },
  {
   "cell_type": "code",
   "execution_count": 42,
   "id": "d1c39e06-bd22-4634-bfe2-47290b4a2eaf",
   "metadata": {},
   "outputs": [
    {
     "data": {
      "text/plain": [
       "torch.Size([2, 76])"
      ]
     },
     "execution_count": 42,
     "metadata": {},
     "output_type": "execute_result"
    }
   ],
   "source": [
    "batch_size = 2\n",
    "\n",
    "def prepare_sequence(seq, word2index):\n",
    "    #map(function, list of something)\n",
    "    #map will look at each of element in this list, and apply this function\n",
    "    idxs = list(map(lambda w: word2index[w] if word2index.get(w) is not None else word2index[\"<UNK>\"], seq))\n",
    "    return torch.LongTensor(idxs)\n",
    "\n",
    "all_vocabs = prepare_sequence(list(vocabs), word2index).expand(batch_size, voc_size)\n",
    "all_vocabs.shape"
   ]
  },
  {
   "cell_type": "code",
   "execution_count": 43,
   "id": "108bfbe4-6fb1-4c22-8404-9d23b40875bb",
   "metadata": {},
   "outputs": [
    {
     "data": {
      "text/plain": [
       "76"
      ]
     },
     "execution_count": 43,
     "metadata": {},
     "output_type": "execute_result"
    }
   ],
   "source": [
    "voc_size"
   ]
  },
  {
   "cell_type": "code",
   "execution_count": 44,
   "id": "8d112e03-0d88-40df-89d5-3d8142f0523f",
   "metadata": {},
   "outputs": [
    {
     "data": {
      "text/plain": [
       "array([[25],\n",
       "       [52]])"
      ]
     },
     "execution_count": 44,
     "metadata": {},
     "output_type": "execute_result"
    }
   ],
   "source": [
    "input, label = random_batch(batch_size, corpus_tokenized)\n",
    "input"
   ]
  },
  {
   "cell_type": "code",
   "execution_count": 45,
   "id": "05928023-1179-48c8-af85-b19c06251851",
   "metadata": {},
   "outputs": [
    {
     "data": {
      "text/plain": [
       "array([[58],\n",
       "       [38]])"
      ]
     },
     "execution_count": 45,
     "metadata": {},
     "output_type": "execute_result"
    }
   ],
   "source": [
    "label #context word"
   ]
  },
  {
   "cell_type": "code",
   "execution_count": 46,
   "id": "94d6742f-b915-44d0-8eb5-1f54c918a77f",
   "metadata": {},
   "outputs": [],
   "source": [
    "emb_size = 2 #usually, this can be 50, 100, or 300\n",
    "model = Skipgram(voc_size, emb_size)"
   ]
  },
  {
   "cell_type": "code",
   "execution_count": 47,
   "id": "94ebb479-a517-42f7-85be-0c7bfa729125",
   "metadata": {},
   "outputs": [],
   "source": [
    "input_tensor = torch.LongTensor(input)  \n",
    "label_tensor = torch.LongTensor(label)  #LongTensor basically means integer...."
   ]
  },
  {
   "cell_type": "code",
   "execution_count": 48,
   "id": "e7606d11-7493-4bff-a9f1-a593a5f2cf26",
   "metadata": {},
   "outputs": [
    {
     "data": {
      "text/plain": [
       "tensor([140104988400736,  94374129724704])"
      ]
     },
     "execution_count": 48,
     "metadata": {},
     "output_type": "execute_result"
    }
   ],
   "source": [
    "torch.LongTensor(2)"
   ]
  },
  {
   "cell_type": "code",
   "execution_count": 49,
   "id": "13f50dc2-3df8-47ce-8d81-2e4c4fd3a4e9",
   "metadata": {},
   "outputs": [
    {
     "data": {
      "text/plain": [
       "torch.Size([2, 1])"
      ]
     },
     "execution_count": 49,
     "metadata": {},
     "output_type": "execute_result"
    }
   ],
   "source": [
    "input_tensor.shape"
   ]
  },
  {
   "cell_type": "code",
   "execution_count": 50,
   "id": "cdd72f98-457d-419f-9da1-baefd2635fc9",
   "metadata": {},
   "outputs": [
    {
     "data": {
      "text/plain": [
       "torch.Size([2, 1])"
      ]
     },
     "execution_count": 50,
     "metadata": {},
     "output_type": "execute_result"
    }
   ],
   "source": [
    "label_tensor.shape"
   ]
  },
  {
   "cell_type": "code",
   "execution_count": 51,
   "id": "57e66bf4-a0d2-47aa-855f-3cf85c97cab0",
   "metadata": {},
   "outputs": [
    {
     "data": {
      "text/plain": [
       "tensor([[ 0,  1,  2,  3,  4,  5,  6,  7,  8,  9, 10, 11, 12, 13, 14, 15, 16, 17,\n",
       "         18, 19, 20, 21, 22, 23, 24, 25, 26, 27, 28, 29, 30, 31, 32, 33, 34, 35,\n",
       "         36, 37, 38, 39, 40, 41, 42, 43, 44, 45, 46, 47, 48, 49, 50, 51, 52, 53,\n",
       "         54, 55, 56, 57, 58, 59, 60, 61, 62, 63, 64, 65, 66, 67, 68, 69, 70, 71,\n",
       "         72, 73, 74, 75],\n",
       "        [ 0,  1,  2,  3,  4,  5,  6,  7,  8,  9, 10, 11, 12, 13, 14, 15, 16, 17,\n",
       "         18, 19, 20, 21, 22, 23, 24, 25, 26, 27, 28, 29, 30, 31, 32, 33, 34, 35,\n",
       "         36, 37, 38, 39, 40, 41, 42, 43, 44, 45, 46, 47, 48, 49, 50, 51, 52, 53,\n",
       "         54, 55, 56, 57, 58, 59, 60, 61, 62, 63, 64, 65, 66, 67, 68, 69, 70, 71,\n",
       "         72, 73, 74, 75]])"
      ]
     },
     "execution_count": 51,
     "metadata": {},
     "output_type": "execute_result"
    }
   ],
   "source": [
    "all_vocabs"
   ]
  },
  {
   "cell_type": "code",
   "execution_count": 52,
   "id": "1b75b3f1-51f2-4fd1-b702-786cc3c02811",
   "metadata": {},
   "outputs": [],
   "source": [
    "loss = model(input_tensor, label_tensor, all_vocabs)"
   ]
  },
  {
   "cell_type": "code",
   "execution_count": 53,
   "id": "a6ca84cd-1d18-4bd2-b415-bd6f1f81ae05",
   "metadata": {},
   "outputs": [],
   "source": [
    "batch_size = 2 #why?  no reason; \n",
    "emb_size   = 2 #why?  no reason; usually 50, 100, 300, but 2 so we can plot (50 can also plot, but need PCA)\n",
    "model      = Skipgram(voc_size, emb_size)\n",
    "\n",
    "optimizer  = optim.Adam(model.parameters(), lr=0.001)"
   ]
  },
  {
   "cell_type": "markdown",
   "id": "708cd066-0d44-4c33-80fe-894a195bee64",
   "metadata": {},
   "source": [
    "### Train module"
   ]
  },
  {
   "cell_type": "code",
   "execution_count": 54,
   "id": "03f78614-9b98-4957-bc91-ac1e4de139fc",
   "metadata": {},
   "outputs": [
    {
     "name": "stdout",
     "output_type": "stream",
     "text": [
      "Epoch 1000 | Loss: 3.628041 | time: 1.6434082984924316\n",
      "Epoch 2000 | Loss: 3.635846 | time: 3.261582851409912\n",
      "Epoch 3000 | Loss: 4.308125 | time: 4.883720636367798\n",
      "Epoch 4000 | Loss: 3.695831 | time: 6.462178468704224\n",
      "Epoch 5000 | Loss: 2.724538 | time: 7.798093795776367\n"
     ]
    }
   ],
   "source": [
    "import time\n",
    "num_epochs = 5000\n",
    "starttime = time.time()\n",
    "#for epoch\n",
    "for epoch in range(num_epochs):\n",
    "    #get random batch\n",
    "    input_batch, label_batch = random_batch(batch_size, corpus)\n",
    "    input_batch = torch.LongTensor(input_batch)\n",
    "    label_batch = torch.LongTensor(label_batch)\n",
    "    \n",
    "    # print(input_batch.shape, label_batch.shape, all_vocabs.shape)\n",
    "    \n",
    "    #loss = model\n",
    "    loss = model(input_batch, label_batch, all_vocabs)\n",
    "    \n",
    "    #backpropagate\n",
    "    loss.backward()\n",
    "    \n",
    "    #update alpha\n",
    "    optimizer.step()\n",
    "    endtime =time.time()\n",
    "    #print epoch loss\n",
    "    if (epoch + 1) % 1000 == 0:\n",
    "        print(f\"Epoch {epoch+1} | Loss: {loss:.6f} | time: {(endtime - starttime)}\")"
   ]
  },
  {
   "cell_type": "code",
   "execution_count": 55,
   "id": "ca415647-45f1-4c87-912a-00de8287f293",
   "metadata": {},
   "outputs": [
    {
     "data": {
      "image/png": "[encoded data removed]",
      "text/plain": [
       "<Figure size 720x720 with 1 Axes>"
      ]
     },
     "metadata": {
      "needs_background": "light"
     },
     "output_type": "display_data"
    }
   ],
   "source": [
    "plt.figure(figsize=(10,10))\n",
    "for i, word in enumerate(vocabs[:50]): #loop each unique vocab\n",
    "    x, y = get_embed(word)\n",
    "    plt.scatter(x, y)\n",
    "    plt.annotate(word, xy=(x, y), xytext=(5, 2), textcoords='offset points')\n",
    "plt.show()"
   ]
  },
  {
   "cell_type": "code",
   "execution_count": null,
   "id": "3b273358-761f-481e-bae2-80e80f36bc86",
   "metadata": {},
   "outputs": [],
   "source": []
  },
  {
   "cell_type": "markdown",
   "id": "af3e5835-f418-4afa-9e3d-24e344c1b71e",
   "metadata": {},
   "source": [
    "## Question 3: Implement CBOW (instead of skipgrams)"
   ]
  },
  {
   "cell_type": "code",
   "execution_count": 56,
   "id": "801e0b45-5ff2-4ac3-960a-77ef79643389",
   "metadata": {},
   "outputs": [],
   "source": [
    "#let's make what we have made into a function (batch function)\n",
    "def random_batch(batch_size, corpus):\n",
    "    cbows = []\n",
    "    #for each corpus\n",
    "    for sent in corpus_tokenized:\n",
    "        for i in range(1, len(sent) - 1): #start from 1 to second last\n",
    "            center_word = word2index[sent[i]]\n",
    "            outside_words = [word2index[sent[i-1]], word2index[sent[i+1]]]  #window_size = 1\n",
    "            for j in outside_words:\n",
    "                cbows.append([outside_words,center_word])\n",
    "    #only get a batch, not the entire list\n",
    "    random_index = np.random.choice(range(len(cbows)), batch_size, replace=False)\n",
    "             \n",
    "    #appending some list of inputs and labels\n",
    "    random_inputs, random_labels = [], []   \n",
    "    for index in random_index:\n",
    "        random_inputs.append([cbows[index][1]])  #center words, this will be a shape of (1, ) --> (1, 1) for modeling\n",
    "        random_labels.append([cbows[index][1]])\n",
    "        \n",
    "    return np.array(random_inputs), np.array(random_labels)\n",
    "    "
   ]
  },
  {
   "cell_type": "code",
   "execution_count": 57,
   "id": "7c15e9ea-7236-4e4c-adbc-a8422ed45ba3",
   "metadata": {},
   "outputs": [
    {
     "name": "stdout",
     "output_type": "stream",
     "text": [
      "(10, 1)\n",
      "label=array([[19],\n",
      "       [58],\n",
      "       [43],\n",
      "       [53],\n",
      "       [44],\n",
      "       [61],\n",
      "       [57],\n",
      "       [19],\n",
      "       [35],\n",
      "       [43]])\n"
     ]
    }
   ],
   "source": [
    "input, label = random_batch(10, corpus_tokenized)\n",
    "\n",
    "print(f\"{input.shape}\")\n",
    "print(f\"{label=}\")"
   ]
  },
  {
   "cell_type": "markdown",
   "id": "057d5883-0f2e-42d3-b49e-e7fe6e01e260",
   "metadata": {},
   "source": [
    "### Module"
   ]
  },
  {
   "cell_type": "code",
   "execution_count": 58,
   "id": "aa31d738-2968-4dad-a645-4db2a347aeea",
   "metadata": {},
   "outputs": [],
   "source": [
    "class CBOW(nn.Module):\n",
    "    \n",
    "    def __init__(self, voc_size, emb_size):\n",
    "        super(CBOW, self).__init__()\n",
    "        self.embedding_center_word  = nn.Embedding(voc_size, emb_size)  #is a lookup table mapping all ids in voc_size, into some vector of size emb_size\n",
    "        self.embedding_outside_word = nn.Embedding(voc_size, emb_size)\n",
    "    \n",
    "    def forward(self, center_word, outside_word, all_vocabs):\n",
    "        #center_word, outside_word: (batch_size, 1)\n",
    "        #all_vocabs: (batch_size, voc_size)\n",
    "        \n",
    "        #convert them into embedding\n",
    "        center_word_embed  = self.embedding_center_word(center_word)     #(batch_size, 1, emb_size)\n",
    "        outside_word_embed = self.embedding_outside_word(outside_word)   #(batch_size, 1, emb_size)\n",
    "        all_vocabs_embed   = self.embedding_outside_word(all_vocabs)     #(batch_size, voc_size, emb_size)\n",
    "        \n",
    "        #bmm is basically @ or .dot , but across batches (i.e., ignore the batch dimension)\n",
    "        top_term = outside_word_embed.bmm(center_word_embed.transpose(1, 2)).squeeze(2)\n",
    "        #(batch_size, 1, emb_size) @ (batch_size, emb_size, 1) = (batch_size, 1, 1) ===> (batch_size, 1)\n",
    "        \n",
    "        top_term_exp = torch.exp(top_term)  #exp(uo vc)\n",
    "        #(batch_size, 1)\n",
    "        \n",
    "        lower_term = all_vocabs_embed.bmm(center_word_embed.transpose(1, 2)).squeeze(2)\n",
    "         #(batch_size, voc_size, emb_size) @ (batch_size, emb_size, 1) = (batch_size, voc_size, 1) = (batch_size, voc_size)\n",
    "         \n",
    "        lower_term_sum = torch.sum(torch.exp(lower_term), 1) #sum exp(uw vc)\n",
    "        #(batch_size, 1)\n",
    "        \n",
    "        loss_fn = -torch.mean(torch.log(top_term_exp / lower_term_sum))\n",
    "        #(batch_size, 1) / (batch_size, 1) ==mean==> scalar\n",
    "        \n",
    "        return loss_fn"
   ]
  },
  {
   "cell_type": "code",
   "execution_count": 59,
   "id": "50f1b6a6-03b2-41d3-940c-af831bf6c3ed",
   "metadata": {},
   "outputs": [
    {
     "data": {
      "text/plain": [
       "torch.Size([2, 76])"
      ]
     },
     "execution_count": 59,
     "metadata": {},
     "output_type": "execute_result"
    }
   ],
   "source": [
    "batch_size = 2\n",
    "\n",
    "def prepare_sequence(seq, word2index):\n",
    "    #map(function, list of something)\n",
    "    #map will look at each of element in this list, and apply this function\n",
    "    idxs = list(map(lambda w: word2index[w] if word2index.get(w) is not None else word2index[\"<UNK>\"], seq))\n",
    "    return torch.LongTensor(idxs)\n",
    "\n",
    "all_vocabs = prepare_sequence(list(vocabs), word2index).expand(batch_size, voc_size)\n",
    "all_vocabs.shape"
   ]
  },
  {
   "cell_type": "code",
   "execution_count": 60,
   "id": "e99c2571-389d-41d3-8459-10abbc4dab21",
   "metadata": {},
   "outputs": [
    {
     "data": {
      "text/plain": [
       "76"
      ]
     },
     "execution_count": 60,
     "metadata": {},
     "output_type": "execute_result"
    }
   ],
   "source": [
    "voc_size"
   ]
  },
  {
   "cell_type": "code",
   "execution_count": 61,
   "id": "6feec72e-0bd3-48c7-a363-07cd599f7854",
   "metadata": {},
   "outputs": [],
   "source": [
    "batch_size = 2 #why?  no reason; \n",
    "emb_size   = 2 #why?  no reason; usually 50, 100, 300, but 2 so we can plot (50 can also plot, but need PCA)\n",
    "model      = CBOW(voc_size, emb_size)\n",
    "\n",
    "optimizer  = optim.Adam(model.parameters(), lr=0.001)"
   ]
  },
  {
   "cell_type": "code",
   "execution_count": 62,
   "id": "e88500bb-01e3-470f-8eda-936bafea9580",
   "metadata": {},
   "outputs": [
    {
     "name": "stdout",
     "output_type": "stream",
     "text": [
      "Epoch 1000 | Loss: 2.341999 | time: 1.5776143074035645\n",
      "Epoch 2000 | Loss: 1.699138 | time: 3.1399383544921875\n",
      "Epoch 3000 | Loss: 0.771212 | time: 4.539310693740845\n",
      "Epoch 4000 | Loss: 0.951467 | time: 5.8318986892700195\n",
      "Epoch 5000 | Loss: 0.082912 | time: 7.128891944885254\n"
     ]
    }
   ],
   "source": [
    "import time\n",
    "num_epochs = 5000\n",
    "starttime = time.time()\n",
    "#for epoch\n",
    "for epoch in range(num_epochs):\n",
    "    #get random batch\n",
    "    input_batch, label_batch = random_batch(batch_size, corpus)\n",
    "    input_batch = torch.LongTensor(input_batch)\n",
    "    label_batch = torch.LongTensor(label_batch)\n",
    "    \n",
    "    # print(input_batch.shape, label_batch.shape, all_vocabs.shape)\n",
    "    \n",
    "    #loss = model\n",
    "    loss = model(input_batch, label_batch, all_vocabs)\n",
    "    \n",
    "    #backpropagate\n",
    "    loss.backward()\n",
    "    \n",
    "    #update alpha\n",
    "    optimizer.step()\n",
    "    endtime =time.time()\n",
    "    #print epoch loss\n",
    "    if (epoch + 1) % 1000 == 0:\n",
    "        print(f\"Epoch {epoch+1} | Loss: {loss:.6f} | time: {(endtime - starttime)}\")"
   ]
  },
  {
   "cell_type": "markdown",
   "id": "0a9641cc-6c60-4a3b-8758-961d42017e8c",
   "metadata": {},
   "source": [
    "### Plot"
   ]
  },
  {
   "cell_type": "code",
   "execution_count": 63,
   "id": "b99b8151-7b92-4a2d-8abd-13edfd3703cd",
   "metadata": {},
   "outputs": [
    {
     "data": {
      "image/png": "[encoded data removed]",
      "text/plain": [
       "<Figure size 720x720 with 1 Axes>"
      ]
     },
     "metadata": {
      "needs_background": "light"
     },
     "output_type": "display_data"
    }
   ],
   "source": [
    "plt.figure(figsize=(10,10))\n",
    "for i, word in enumerate(vocabs[:50]): #loop each unique vocab\n",
    "    x, y = get_embed(word)\n",
    "    plt.scatter(x, y)\n",
    "    plt.annotate(word, xy=(x, y), xytext=(5, 2), textcoords='offset points')\n",
    "plt.show()"
   ]
  },
  {
   "cell_type": "markdown",
   "id": "451f2849-3bfd-4a99-a53a-2a294fe58e3f",
   "metadata": {},
   "source": [
    "## Question 4: Compare normal version of skipgrams vs. negative sampling version of skipgrams in terms of time (using real corpus)"
   ]
  },
  {
   "cell_type": "code",
   "execution_count": 64,
   "id": "19c326ef-abf4-4132-9f5c-cc03d6f4c414",
   "metadata": {},
   "outputs": [],
   "source": [
    "#let's make what we have made into a function (batch function)\n",
    "#return a batches of data, e.g., =2 --> ['banana', 'apple'], ['banana', 'fruit']\n",
    "#also i want these batches to be id, NOT token   --> [5, 4]\n",
    "\n",
    "def random_batch(batch_size, corpus):\n",
    "    \n",
    "    skipgrams = []\n",
    "\n",
    "    #for each corpus\n",
    "    for sent in corpus_tokenized:\n",
    "        for i in range(1, len(sent) - 1): #start from 1 to second last\n",
    "            center_word = word2index[sent[i]]\n",
    "            outside_words = [word2index[sent[i-1]], word2index[sent[i+1]]]  #window_size = 1\n",
    "            for o in outside_words:\n",
    "                skipgrams.append([center_word, o])\n",
    "                \n",
    "    #only get a batch, not the entire list\n",
    "    random_index = np.random.choice(range(len(skipgrams)), batch_size, replace=False)\n",
    "             \n",
    "    #appending some list of inputs and labels\n",
    "    random_inputs, random_labels = [], []   \n",
    "    for index in random_index:\n",
    "        random_inputs.append([skipgrams[index][0]])  #center words, this will be a shape of (1, ) --> (1, 1) for modeling\n",
    "        random_labels.append([skipgrams[index][1]])\n",
    "        \n",
    "    return np.array(random_inputs), np.array(random_labels)\n",
    "    "
   ]
  },
  {
   "cell_type": "code",
   "execution_count": 65,
   "id": "4a286eab-22d5-4536-9c88-bdeb5e11538e",
   "metadata": {},
   "outputs": [
    {
     "name": "stdout",
     "output_type": "stream",
     "text": [
      "(10, 1)\n",
      "label=array([[68],\n",
      "       [ 5],\n",
      "       [35],\n",
      "       [26],\n",
      "       [65],\n",
      "       [56],\n",
      "       [58],\n",
      "       [43],\n",
      "       [35],\n",
      "       [36]])\n"
     ]
    }
   ],
   "source": [
    "input, label = random_batch(10, corpus_tokenized)\n",
    "\n",
    "print(f\"{input.shape}\")\n",
    "print(f\"{label=}\")"
   ]
  },
  {
   "cell_type": "code",
   "execution_count": 66,
   "id": "b52ee467-b892-4b9c-87ca-015c5b24e793",
   "metadata": {},
   "outputs": [],
   "source": [
    "z = 0.001  #scaling up low frequency terms"
   ]
  },
  {
   "cell_type": "code",
   "execution_count": 67,
   "id": "54f6de62-efd3-406d-a4a5-d6b4c3708492",
   "metadata": {},
   "outputs": [
    {
     "data": {
      "text/plain": [
       "Counter({'he': 5,\n",
       "         'is': 24,\n",
       "         'a': 11,\n",
       "         'king': 1,\n",
       "         'teacher': 1,\n",
       "         'she': 4,\n",
       "         'queen': 1,\n",
       "         'man': 1,\n",
       "         'professor': 1,\n",
       "         'girl': 1,\n",
       "         'very': 3,\n",
       "         'beautiful': 1,\n",
       "         'I': 5,\n",
       "         'am': 3,\n",
       "         'good': 1,\n",
       "         'pressident': 1,\n",
       "         'boy': 1,\n",
       "         'woman': 1,\n",
       "         'Thailand': 4,\n",
       "         'has': 3,\n",
       "         'many': 4,\n",
       "         'temples': 2,\n",
       "         'yellow': 1,\n",
       "         'pagoda': 1,\n",
       "         'There': 1,\n",
       "         'are': 2,\n",
       "         'in': 3,\n",
       "         'Vietnam': 4,\n",
       "         'pagodas': 1,\n",
       "         'delicious': 1,\n",
       "         'dishes': 1,\n",
       "         'Data': 2,\n",
       "         'Science': 2,\n",
       "         'and': 3,\n",
       "         'AI': 2,\n",
       "         'Rise': 1,\n",
       "         'the': 1,\n",
       "         'World': 1,\n",
       "         'developing': 1,\n",
       "         'fast': 1,\n",
       "         'warsaw': 1,\n",
       "         'poland': 1,\n",
       "         'capital': 5,\n",
       "         'berlin': 1,\n",
       "         'germany': 1,\n",
       "         'paris': 1,\n",
       "         'france': 1,\n",
       "         'The': 2,\n",
       "         'of': 2,\n",
       "         'Hanoi': 1,\n",
       "         'Bangkok': 1,\n",
       "         'NLP': 1,\n",
       "         'too': 6,\n",
       "         'difficult': 4,\n",
       "         'ML': 1,\n",
       "         'easy': 4,\n",
       "         'CP': 1,\n",
       "         'Learning': 2,\n",
       "         'to': 2,\n",
       "         'ride': 1,\n",
       "         'motorbike': 1,\n",
       "         'drive': 1,\n",
       "         'car': 1,\n",
       "         'Math': 1,\n",
       "         'Linear': 1,\n",
       "         'DMM': 1,\n",
       "         'love': 1,\n",
       "         'you': 2,\n",
       "         'hate': 1,\n",
       "         'Spring': 1,\n",
       "         'so': 3,\n",
       "         'warm': 1,\n",
       "         'winter': 1,\n",
       "         'cold': 1,\n",
       "         'handsome': 1})"
      ]
     },
     "execution_count": 67,
     "metadata": {},
     "output_type": "execute_result"
    }
   ],
   "source": [
    "#count all the occurrences of vocabs\n",
    "from collections import Counter\n",
    "\n",
    "word_count = Counter(flatten(corpus_tokenized))\n",
    "word_count"
   ]
  },
  {
   "cell_type": "code",
   "execution_count": 68,
   "id": "fb34092f-99ec-4846-85e8-7e9d34047305",
   "metadata": {},
   "outputs": [
    {
     "data": {
      "text/plain": [
       "165"
      ]
     },
     "execution_count": 68,
     "metadata": {},
     "output_type": "execute_result"
    }
   ],
   "source": [
    "num_total_words = sum([c for w, c in word_count.items()])\n",
    "num_total_words"
   ]
  },
  {
   "cell_type": "code",
   "execution_count": 69,
   "id": "66fa6b48-228e-4801-852c-b6030e5f52cc",
   "metadata": {},
   "outputs": [
    {
     "data": {
      "text/plain": [
       "Counter({'I': 72,\n",
       "         'Science': 36,\n",
       "         'she': 61,\n",
       "         'warsaw': 21,\n",
       "         'Data': 36,\n",
       "         'paris': 21,\n",
       "         'Rise': 21,\n",
       "         'ML': 21,\n",
       "         'Learning': 36,\n",
       "         'too': 83,\n",
       "         'pressident': 21,\n",
       "         'easy': 61,\n",
       "         'pagodas': 21,\n",
       "         'so': 49,\n",
       "         'good': 21,\n",
       "         'he': 72,\n",
       "         'are': 36,\n",
       "         'There': 21,\n",
       "         'the': 21,\n",
       "         'and': 49,\n",
       "         'teacher': 21,\n",
       "         'fast': 21,\n",
       "         'poland': 21,\n",
       "         'Bangkok': 21,\n",
       "         'Hanoi': 21,\n",
       "         'motorbike': 21,\n",
       "         'queen': 21,\n",
       "         'germany': 21,\n",
       "         'Math': 21,\n",
       "         'The': 36,\n",
       "         'professor': 21,\n",
       "         'difficult': 61,\n",
       "         'drive': 21,\n",
       "         'Linear': 21,\n",
       "         'woman': 21,\n",
       "         'has': 49,\n",
       "         'temples': 36,\n",
       "         'beautiful': 21,\n",
       "         'capital': 72,\n",
       "         'you': 36,\n",
       "         'NLP': 21,\n",
       "         'car': 21,\n",
       "         'developing': 21,\n",
       "         'is': 235,\n",
       "         'Vietnam': 61,\n",
       "         'france': 21,\n",
       "         'pagoda': 21,\n",
       "         'man': 21,\n",
       "         'dishes': 21,\n",
       "         'yellow': 21,\n",
       "         'girl': 21,\n",
       "         'AI': 36,\n",
       "         'of': 36,\n",
       "         'hate': 21,\n",
       "         'winter': 21,\n",
       "         'king': 21,\n",
       "         'in': 49,\n",
       "         'very': 49,\n",
       "         'a': 131,\n",
       "         'berlin': 21,\n",
       "         'warm': 21,\n",
       "         'Thailand': 61,\n",
       "         'World': 21,\n",
       "         'ride': 21,\n",
       "         'boy': 21,\n",
       "         'many': 61,\n",
       "         'Spring': 21,\n",
       "         'CP': 21,\n",
       "         'to': 36,\n",
       "         'am': 49,\n",
       "         'delicious': 21,\n",
       "         'DMM': 21,\n",
       "         'cold': 21,\n",
       "         'handsome': 21,\n",
       "         'love': 21})"
      ]
     },
     "execution_count": 69,
     "metadata": {},
     "output_type": "execute_result"
    }
   ],
   "source": [
    "unigram_table = []\n",
    "\n",
    "for v in vocabs:\n",
    "    uw = word_count[v]/num_total_words\n",
    "    uw_alpha = uw ** 0.75\n",
    "    uw_alpha_dividebyz = int(uw_alpha / z)\n",
    "    # print(\"vocab: \", v)\n",
    "    # print(\"distribution: \", uw_alpha_dividebyz)\n",
    "    unigram_table.extend([v] * uw_alpha_dividebyz)\n",
    "    \n",
    "Counter(unigram_table)"
   ]
  },
  {
   "cell_type": "code",
   "execution_count": 70,
   "id": "c1d61266-e6f1-427b-a1e7-597e285f644c",
   "metadata": {},
   "outputs": [
    {
     "data": {
      "text/plain": [
       "Counter({'he': 5,\n",
       "         'is': 24,\n",
       "         'a': 11,\n",
       "         'king': 1,\n",
       "         'teacher': 1,\n",
       "         'she': 4,\n",
       "         'queen': 1,\n",
       "         'man': 1,\n",
       "         'professor': 1,\n",
       "         'girl': 1,\n",
       "         'very': 3,\n",
       "         'beautiful': 1,\n",
       "         'I': 5,\n",
       "         'am': 3,\n",
       "         'good': 1,\n",
       "         'pressident': 1,\n",
       "         'boy': 1,\n",
       "         'woman': 1,\n",
       "         'Thailand': 4,\n",
       "         'has': 3,\n",
       "         'many': 4,\n",
       "         'temples': 2,\n",
       "         'yellow': 1,\n",
       "         'pagoda': 1,\n",
       "         'There': 1,\n",
       "         'are': 2,\n",
       "         'in': 3,\n",
       "         'Vietnam': 4,\n",
       "         'pagodas': 1,\n",
       "         'delicious': 1,\n",
       "         'dishes': 1,\n",
       "         'Data': 2,\n",
       "         'Science': 2,\n",
       "         'and': 3,\n",
       "         'AI': 2,\n",
       "         'Rise': 1,\n",
       "         'the': 1,\n",
       "         'World': 1,\n",
       "         'developing': 1,\n",
       "         'fast': 1,\n",
       "         'warsaw': 1,\n",
       "         'poland': 1,\n",
       "         'capital': 5,\n",
       "         'berlin': 1,\n",
       "         'germany': 1,\n",
       "         'paris': 1,\n",
       "         'france': 1,\n",
       "         'The': 2,\n",
       "         'of': 2,\n",
       "         'Hanoi': 1,\n",
       "         'Bangkok': 1,\n",
       "         'NLP': 1,\n",
       "         'too': 6,\n",
       "         'difficult': 4,\n",
       "         'ML': 1,\n",
       "         'easy': 4,\n",
       "         'CP': 1,\n",
       "         'Learning': 2,\n",
       "         'to': 2,\n",
       "         'ride': 1,\n",
       "         'motorbike': 1,\n",
       "         'drive': 1,\n",
       "         'car': 1,\n",
       "         'Math': 1,\n",
       "         'Linear': 1,\n",
       "         'DMM': 1,\n",
       "         'love': 1,\n",
       "         'you': 2,\n",
       "         'hate': 1,\n",
       "         'Spring': 1,\n",
       "         'so': 3,\n",
       "         'warm': 1,\n",
       "         'winter': 1,\n",
       "         'cold': 1,\n",
       "         'handsome': 1})"
      ]
     },
     "execution_count": 70,
     "metadata": {},
     "output_type": "execute_result"
    }
   ],
   "source": [
    "word_count"
   ]
  },
  {
   "cell_type": "code",
   "execution_count": 71,
   "id": "c6e8e3fb-911f-488d-a9f2-302cdcd362f8",
   "metadata": {},
   "outputs": [],
   "source": [
    "def prepare_sequence(seq, word2index):\n",
    "    #map(function, list of something)\n",
    "    #map will look at each of element in this list, and apply this function\n",
    "    idxs = list(map(lambda w: word2index[w] if word2index.get(w) is not None else word2index[\"<UNK>\"], seq))\n",
    "    return torch.LongTensor(idxs)"
   ]
  },
  {
   "cell_type": "code",
   "execution_count": 72,
   "id": "39da6eff-b6f1-4214-beae-a23589b00fa1",
   "metadata": {},
   "outputs": [],
   "source": [
    "import random\n",
    "#you don't want to pick samples = targets, basically negative samples\n",
    "#k = number of negative samples - how many? they found 10 is the best\n",
    "#will be run during training\n",
    "#after random_batch, \n",
    "def negative_sampling(targets, unigram_table, k):\n",
    "    #targets is already in id.....\n",
    "    #but the unigram_table is in word....\n",
    "    #1. get the batch size of this targets\n",
    "    batch_size = targets.shape[0]\n",
    "    neg_samples = []\n",
    "    #2. for each batch\n",
    "    for i in range(batch_size):\n",
    "        #randomly pick k negative words from unigram_table\n",
    "        target_index = targets[i].item()  #looping each of the batch....\n",
    "        nsample = []\n",
    "        while len(nsample) < k:\n",
    "            neg = random.choice(unigram_table)\n",
    "            #if this word == target, skip this word\n",
    "            if word2index[neg] == target_index:\n",
    "                continue\n",
    "            nsample.append(neg)\n",
    "        #append this word to some list\n",
    "        neg_samples.append(prepare_sequence(nsample, word2index).reshape(1, -1))  #tensor[], tensor[]\n",
    "    return torch.cat(neg_samples)  #tensor[[], []]"
   ]
  },
  {
   "cell_type": "code",
   "execution_count": 73,
   "id": "c461826e-05f4-4fb5-a94f-aacb0e5c0921",
   "metadata": {},
   "outputs": [
    {
     "data": {
      "text/plain": [
       "(array([[57],\n",
       "        [13]]),\n",
       " array([[69],\n",
       "        [73]]))"
      ]
     },
     "execution_count": 73,
     "metadata": {},
     "output_type": "execute_result"
    }
   ],
   "source": [
    "batch_size = 2\n",
    "input_batch, label_batch = random_batch(batch_size, corpus_tokenized)\n",
    "\n",
    "input_batch, label_batch"
   ]
  },
  {
   "cell_type": "code",
   "execution_count": 74,
   "id": "3ec9390c-f46a-4758-8aab-df708fbe0fde",
   "metadata": {},
   "outputs": [],
   "source": [
    "input_batch = torch.LongTensor(input_batch)\n",
    "label_batch = torch.LongTensor(label_batch)"
   ]
  },
  {
   "cell_type": "code",
   "execution_count": 75,
   "id": "5757dcd3-3752-4d66-8008-f01ea6fceb3a",
   "metadata": {},
   "outputs": [],
   "source": [
    "num_neg = 5  #in the real code, we gonna use 10 (like in the paper)\n",
    "neg_samples = negative_sampling(label_batch, unigram_table, num_neg)"
   ]
  },
  {
   "cell_type": "code",
   "execution_count": 76,
   "id": "bd30ac62-e753-4b9c-af3c-ac95d7af1288",
   "metadata": {},
   "outputs": [
    {
     "data": {
      "text/plain": [
       "torch.Size([2, 5])"
      ]
     },
     "execution_count": 76,
     "metadata": {},
     "output_type": "execute_result"
    }
   ],
   "source": [
    "neg_samples.shape"
   ]
  },
  {
   "cell_type": "code",
   "execution_count": 77,
   "id": "cb2f4f0f-48b4-4749-a01e-fab24328f82e",
   "metadata": {},
   "outputs": [],
   "source": [
    "class SkipgramNeg(nn.Module):\n",
    "    \n",
    "    def __init__(self, voc_size, emb_size):\n",
    "        super(SkipgramNeg, self).__init__()\n",
    "        self.embedding_center_word  = nn.Embedding(voc_size, emb_size)\n",
    "        self.embedding_outside_word = nn.Embedding(voc_size, emb_size)\n",
    "        self.logsigmoid = nn.LogSigmoid()\n",
    "        \n",
    "    def forward(self, center_words, outside_words, negative_words):\n",
    "        #center_words, outside_words: (batch_size, 1)\n",
    "        #negative_words:  (batch_size, k)\n",
    "        \n",
    "        center_embed  = self.embedding_center_word(center_words)    #(batch_size, 1, emb_size)\n",
    "        outside_embed = self.embedding_outside_word(outside_words)  #(batch_size, 1, emb_size)\n",
    "        neg_embed     = self.embedding_outside_word(negative_words) #(batch_size, k, emb_size)\n",
    "        \n",
    "        uovc          =  outside_embed.bmm(center_embed.transpose(1, 2)).squeeze(2)  #(batch_size, 1)\n",
    "        ukvc          = -neg_embed.bmm(center_embed.transpose(1, 2)).squeeze(2)  #(batch_size, k)\n",
    "        ukvc_sum      =  torch.sum(ukvc, 1).view(-1, 1) #(batch_size, 1)\n",
    "        \n",
    "        loss = self.logsigmoid(uovc) + self.logsigmoid(ukvc_sum)  #(batch_size, 1) + (batch_size, 1)\n",
    "                \n",
    "        return -torch.mean(loss)  #scalar, loss should be scalar, to call backward()"
   ]
  },
  {
   "cell_type": "code",
   "execution_count": 78,
   "id": "f656ba68-5b1f-4f3f-b276-20814d45a5de",
   "metadata": {},
   "outputs": [],
   "source": [
    "input, label = random_batch(batch_size, corpus_tokenized)\n",
    "input_tensor = torch.LongTensor(input)  \n",
    "label_tensor = torch.LongTensor(label)"
   ]
  },
  {
   "cell_type": "code",
   "execution_count": 79,
   "id": "ebedcac6-ad69-4f08-a47b-9a99de506f22",
   "metadata": {},
   "outputs": [],
   "source": [
    "emb_size = 2 #usually, this can be 50, 100, or 300\n",
    "voc_size = len(vocabs)\n",
    "model = SkipgramNeg(voc_size, emb_size)"
   ]
  },
  {
   "cell_type": "code",
   "execution_count": 80,
   "id": "161044f9-31be-421a-bf9a-9d45e62edfc9",
   "metadata": {},
   "outputs": [],
   "source": [
    "neg_tensor = negative_sampling(label_tensor, unigram_table, 5)"
   ]
  },
  {
   "cell_type": "code",
   "execution_count": 81,
   "id": "6e020e4a-e94b-4894-a89a-a91a936ae613",
   "metadata": {},
   "outputs": [
    {
     "data": {
      "text/plain": [
       "(torch.Size([2, 1]), torch.Size([2, 1]))"
      ]
     },
     "execution_count": 81,
     "metadata": {},
     "output_type": "execute_result"
    }
   ],
   "source": [
    "\n",
    "input_tensor.shape, label_tensor.shape#, neg_tensor.shape"
   ]
  },
  {
   "cell_type": "code",
   "execution_count": 82,
   "id": "e273c57d-dd93-4fbb-b541-adfa86ac8422",
   "metadata": {},
   "outputs": [],
   "source": [
    "#this should give one number\n",
    "loss = model(input_tensor, label_tensor, neg_tensor)"
   ]
  },
  {
   "cell_type": "code",
   "execution_count": 83,
   "id": "e078bcce-1a97-4467-acfa-c733949627f2",
   "metadata": {},
   "outputs": [
    {
     "data": {
      "text/plain": [
       "tensor(1.4844, grad_fn=<NegBackward0>)"
      ]
     },
     "execution_count": 83,
     "metadata": {},
     "output_type": "execute_result"
    }
   ],
   "source": [
    "loss"
   ]
  },
  {
   "cell_type": "code",
   "execution_count": 84,
   "id": "6e916404-1e39-4f24-ab26-59b95acd8c14",
   "metadata": {},
   "outputs": [],
   "source": [
    "voc_size   = len(vocabs)\n",
    "batch_size = 2 #why?  no reason; \n",
    "emb_size   = 2 #why?  no reason; usually 50, 100, 300, but 2 so we can plot (50 can also plot, but need PCA)\n",
    "model      = SkipgramNeg(voc_size, emb_size)\n",
    "\n",
    "optimizer  = optim.Adam(model.parameters(), lr=0.001)"
   ]
  },
  {
   "cell_type": "code",
   "execution_count": 85,
   "id": "8ea36772-8a97-43f6-964a-5676ccd7a74c",
   "metadata": {},
   "outputs": [
    {
     "name": "stdout",
     "output_type": "stream",
     "text": [
      "Epoch 1000 | Loss: 0.833845 | time: 1.60760498046875\n",
      "Epoch 2000 | Loss: 0.193061 | time: 3.184335947036743\n",
      "Epoch 3000 | Loss: 0.418808 | time: 4.759375333786011\n",
      "Epoch 4000 | Loss: 0.011292 | time: 6.349442720413208\n",
      "Epoch 5000 | Loss: 0.001412 | time: 7.930240631103516\n"
     ]
    }
   ],
   "source": [
    "import time\n",
    "num_epochs = 5000\n",
    "starttime = time.time()\n",
    "#for epoch\n",
    "for epoch in range(num_epochs):\n",
    "\n",
    "    #get random batch\n",
    "    input_batch, label_batch = random_batch(batch_size, corpus)\n",
    "    input_batch = torch.LongTensor(input_batch)\n",
    "    label_batch = torch.LongTensor(label_batch)\n",
    "    \n",
    "    # print(input_batch.shape, label_batch.shape, all_vocabs.shape)\n",
    "    \n",
    "    #loss = model\n",
    "    loss = model(input_batch, label_batch, all_vocabs)\n",
    "    \n",
    "    #backpropagate\n",
    "    loss.backward()\n",
    "    \n",
    "    #update alpha\n",
    "    optimizer.step()\n",
    "    endtime =time.time()\n",
    "    #print epoch loss\n",
    "    if (epoch + 1) % 1000 == 0:\n",
    "        print(f\"Epoch {epoch+1} | Loss: {loss:.6f} | time: {(endtime - starttime)}\")"
   ]
  },
  {
   "cell_type": "code",
   "execution_count": 86,
   "id": "54548152-0b69-43af-aa99-912a2324f43e",
   "metadata": {},
   "outputs": [
    {
     "data": {
      "text/plain": [
       "['I',\n",
       " 'Science',\n",
       " 'she',\n",
       " 'warsaw',\n",
       " 'Data',\n",
       " 'paris',\n",
       " 'Rise',\n",
       " 'ML',\n",
       " 'Learning',\n",
       " 'too',\n",
       " 'pressident',\n",
       " 'easy',\n",
       " 'pagodas',\n",
       " 'so',\n",
       " 'good',\n",
       " 'he',\n",
       " 'are',\n",
       " 'There',\n",
       " 'the',\n",
       " 'and',\n",
       " 'teacher',\n",
       " 'fast',\n",
       " 'poland',\n",
       " 'Bangkok',\n",
       " 'Hanoi',\n",
       " 'motorbike',\n",
       " 'queen',\n",
       " 'germany',\n",
       " 'Math',\n",
       " 'The',\n",
       " 'professor',\n",
       " 'difficult',\n",
       " 'drive',\n",
       " 'Linear',\n",
       " 'woman',\n",
       " 'has',\n",
       " 'temples',\n",
       " 'beautiful',\n",
       " 'capital',\n",
       " 'you',\n",
       " 'NLP',\n",
       " 'car',\n",
       " 'developing',\n",
       " 'is',\n",
       " 'Vietnam',\n",
       " 'france',\n",
       " 'pagoda',\n",
       " 'man',\n",
       " 'dishes',\n",
       " 'yellow',\n",
       " 'girl',\n",
       " 'AI',\n",
       " 'of',\n",
       " 'hate',\n",
       " 'winter',\n",
       " 'king',\n",
       " 'in',\n",
       " 'very',\n",
       " 'a',\n",
       " 'berlin',\n",
       " 'warm',\n",
       " 'Thailand',\n",
       " 'World',\n",
       " 'ride',\n",
       " 'boy',\n",
       " 'many',\n",
       " 'Spring',\n",
       " 'CP',\n",
       " 'to',\n",
       " 'am',\n",
       " 'delicious',\n",
       " 'DMM',\n",
       " 'cold',\n",
       " 'handsome',\n",
       " 'love',\n",
       " '<UNK>']"
      ]
     },
     "execution_count": 86,
     "metadata": {},
     "output_type": "execute_result"
    }
   ],
   "source": [
    "vocabs"
   ]
  },
  {
   "cell_type": "code",
   "execution_count": 87,
   "id": "27cc9569-9625-4aa5-9b1b-f91cd7573bc8",
   "metadata": {},
   "outputs": [
    {
     "data": {
      "text/plain": [
       "tensor([28])"
      ]
     },
     "execution_count": 87,
     "metadata": {},
     "output_type": "execute_result"
    }
   ],
   "source": [
    "math = torch.LongTensor([word2index['Math']])\n",
    "math"
   ]
  },
  {
   "cell_type": "code",
   "execution_count": 88,
   "id": "83f7b1cc-60db-43d3-8e0d-b3e547ab0f30",
   "metadata": {},
   "outputs": [
    {
     "data": {
      "text/plain": [
       "tensor([[ 0.8111, -0.1896]], grad_fn=<DivBackward0>)"
      ]
     },
     "execution_count": 88,
     "metadata": {},
     "output_type": "execute_result"
    }
   ],
   "source": [
    "math_center_embed = model.embedding_center_word(math)\n",
    "math_outisde_embed = model.embedding_outside_word(math)\n",
    "\n",
    "math_embed = (he_center_embed + he_outisde_embed) / 2\n",
    "math_embed"
   ]
  },
  {
   "cell_type": "code",
   "execution_count": 89,
   "id": "5e798d8f-4d10-49f8-8451-03d9b1d38460",
   "metadata": {},
   "outputs": [],
   "source": [
    "def get_embed(word):\n",
    "    try:\n",
    "        index = word2index[word]\n",
    "    except:\n",
    "        index = word2index['<UNK>']\n",
    "    \n",
    "    word = torch.LongTensor([index])\n",
    "\n",
    "    center_embed  = model.embedding_center_word(word)\n",
    "    outside_embed = model.embedding_outside_word(word)\n",
    "    \n",
    "    embed = (center_embed + outside_embed) / 2\n",
    "    \n",
    "    return  embed[0][0].item(), embed[0][1].item()"
   ]
  },
  {
   "cell_type": "code",
   "execution_count": 90,
   "id": "bd3bee40-8b2d-4e0c-8c9b-259ed5dd017b",
   "metadata": {},
   "outputs": [
    {
     "name": "stdout",
     "output_type": "stream",
     "text": [
      "(-1.1069151163101196, 3.2229533195495605)\n",
      "(1.7956088781356812, -0.42589086294174194)\n",
      "(1.4406739473342896, -1.58945894241333)\n"
     ]
    }
   ],
   "source": [
    "print(get_embed('AI'))\n",
    "print(get_embed('ML'))\n",
    "print(get_embed('NLP'))"
   ]
  },
  {
   "cell_type": "code",
   "execution_count": 91,
   "id": "fc580f44-ed29-40f1-8cfc-76cba133ad05",
   "metadata": {},
   "outputs": [
    {
     "data": {
      "image/png": "[encoded data removed]",
      "text/plain": [
       "<Figure size 720x720 with 1 Axes>"
      ]
     },
     "metadata": {
      "needs_background": "light"
     },
     "output_type": "display_data"
    }
   ],
   "source": [
    "plt.figure(figsize=(10,10))\n",
    "for i, word in enumerate(vocabs[:50]): #loop each unique vocab\n",
    "    x, y = get_embed(word)\n",
    "    plt.scatter(x, y)\n",
    "    plt.annotate(word, xy=(x, y), xytext=(5, 2), textcoords='offset points')\n",
    "plt.show()"
   ]
  },
  {
   "cell_type": "markdown",
   "id": "e9d74881-74c0-4579-bf11-15326574f779",
   "metadata": {},
   "source": [
    "We have :\n",
    "the time of the normal version of skipgrams\\\n",
    "Epoch 1000 | Loss: 4.833241 | time: 1.3383855819702148\n",
    "Epoch 2000 | Loss: 5.114820 | time: 2.630401134490967\n",
    "Epoch 3000 | Loss: 1.729257 | time: 4.274210453033447\n",
    "Epoch 4000 | Loss: 5.219905 | time: 5.806239604949951\n",
    "Epoch 5000 | Loss: 2.898548 | time: 7.312983989715576\n",
    "\n",
    "the time of the negative sampling version of skipgrams\\\n",
    "Epoch 1000 | Loss: 0.833845 | time: 1.60760498046875\\\n",
    "Epoch 2000 | Loss: 0.193061 | time: 3.184335947036743\\\n",
    "Epoch 3000 | Loss: 0.418808 | time: 4.759375333786011\\\n",
    "Epoch 4000 | Loss: 0.011292 | time: 6.349442720413208\\\n",
    "Epoch 5000 | Loss: 0.001412 | time: 7.930240631103516\n",
    "\n",
    "We will easily see that the time of the normal version of skipgrams will be less than the time of the negative sampling version of skipgrams."
   ]
  },
  {
   "cell_type": "code",
   "execution_count": null,
   "id": "6a6770c1-abf4-4d21-a47f-24df58781bd1",
   "metadata": {},
   "outputs": [],
   "source": []
  },
  {
   "cell_type": "code",
   "execution_count": null,
   "id": "1ec29ddb-3cb4-4858-8a0e-776f1cdb7f2e",
   "metadata": {},
   "outputs": [],
   "source": []
  },
  {
   "cell_type": "code",
   "execution_count": null,
   "id": "fe537d88-c207-4a87-be5b-905651588a7f",
   "metadata": {},
   "outputs": [],
   "source": []
  }
 ],
 "metadata": {
  "kernelspec": {
   "display_name": "Python 3 (ipykernel)",
   "language": "python",
   "name": "python3"
  },
  "language_info": {
   "codemirror_mode": {
    "name": "ipython",
    "version": 3
   },
   "file_extension": ".py",
   "mimetype": "text/x-python",
   "name": "python",
   "nbconvert_exporter": "python",
   "pygments_lexer": "ipython3",
   "version": "3.9.7"
  }
 },
 "nbformat": 4,
 "nbformat_minor": 5
}
