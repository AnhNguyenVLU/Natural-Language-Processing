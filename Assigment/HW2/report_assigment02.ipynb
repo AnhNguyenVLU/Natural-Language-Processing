{
 "cells": [
  {
   "cell_type": "markdown",
   "id": "2738911d-27f3-4003-a552-5369350143b9",
   "metadata": {},
   "source": [
    "## Assigment 2"
   ]
  },
  {
   "cell_type": "markdown",
   "id": "d19ada8f-5b96-439d-ba3b-76b816a11d2a",
   "metadata": {},
   "source": [
    "Nguyen Thai Anh - 122910"
   ]
  },
  {
   "attachments": {
    "62055ed5-5084-4190-8e90-3143e32bcc80.png": {
     "image/png": "[encoded data removed]"
    }
   },
   "cell_type": "markdown",
   "id": "56b45332-8531-4c05-825a-079c68f56729",
   "metadata": {},
   "source": [
    "![image.png](attachment:62055ed5-5084-4190-8e90-3143e32bcc80.png)"
   ]
  },
  {
   "cell_type": "markdown",
   "id": "765945b1-a63b-44a8-8caf-9e6288a29076",
   "metadata": {},
   "source": [
    "I trained the models (Skipgram, CBOW, Negative skipgram, GloVe) with epoch = 5000\n",
    "- we see that Glove has the fastest speed, 11s, while Skipgram 16s, CBOW and Negative skipgram 18s\n",
    "- Glove's loss is relatively low at only 0.341 while Negative skipgram's loss is relatively high 7.78"
   ]
  },
  {
   "cell_type": "markdown",
   "id": "6f3e2455-7243-4bc5-8403-e99d986f9edb",
   "metadata": {},
   "source": [
    "--------------------------------------------------------------------------------"
   ]
  },
  {
   "attachments": {
    "7dffa23b-4e52-46da-b291-76fd4f2dd8f8.png": {
     "image/png": "[encoded data removed]"
    }
   },
   "cell_type": "markdown",
   "id": "61a6c9ed-9ccd-4c30-984a-06591ef1247b",
   "metadata": {},
   "source": [
    "![image.png](attachment:7dffa23b-4e52-46da-b291-76fd4f2dd8f8.png)"
   ]
  },
  {
   "cell_type": "markdown",
   "id": "afbba102-62a5-4688-9785-21fe5d0cd9c0",
   "metadata": {},
   "source": [
    "Here, we see that come and come have a similarity of 1 i.e. 100%, which shows that these two words are the same and are 1.\\\n",
    "The remaining two words are not very accurate so there is no similarity"
   ]
  },
  {
   "cell_type": "code",
   "execution_count": null,
   "id": "a9c9dd85-152f-47de-8c5d-bfe944238224",
   "metadata": {},
   "outputs": [],
   "source": []
  }
 ],
 "metadata": {
  "kernelspec": {
   "display_name": "Python 3 (ipykernel)",
   "language": "python",
   "name": "python3"
  },
  "language_info": {
   "codemirror_mode": {
    "name": "ipython",
    "version": 3
   },
   "file_extension": ".py",
   "mimetype": "text/x-python",
   "name": "python",
   "nbconvert_exporter": "python",
   "pygments_lexer": "ipython3",
   "version": "3.9.7"
  }
 },
 "nbformat": 4,
 "nbformat_minor": 5
}
